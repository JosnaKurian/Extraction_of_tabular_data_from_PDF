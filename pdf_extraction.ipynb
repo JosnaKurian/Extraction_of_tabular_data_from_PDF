{
  "nbformat": 4,
  "nbformat_minor": 0,
  "metadata": {
    "colab": {
      "provenance": [],
      "gpuType": "T4",
      "authorship_tag": "ABX9TyNGsryKzCs15seXhtBJsvl5",
      "include_colab_link": true
    },
    "kernelspec": {
      "name": "python3",
      "display_name": "Python 3"
    },
    "language_info": {
      "name": "python"
    },
    "accelerator": "GPU"
  },
  "cells": [
    {
      "cell_type": "markdown",
      "metadata": {
        "id": "view-in-github",
        "colab_type": "text"
      },
      "source": [
        "<a href=\"https://colab.research.google.com/github/JosnaKurian/Extraction_of_tabular_data_from_PDF/blob/main/pdf_extraction.ipynb\" target=\"_parent\"><img src=\"https://colab.research.google.com/assets/colab-badge.svg\" alt=\"Open In Colab\"/></a>"
      ]
    },
    {
      "cell_type": "markdown",
      "source": [
        "#EXTRACTION OF TABULAR DATA FROM PDF"
      ],
      "metadata": {
        "id": "alVAYx6xdnOW"
      }
    },
    {
      "cell_type": "markdown",
      "source": [
        "#### Problem statement:\n",
        "\n",
        "Read the PDFs using python and extract the table contents/Line items as a DATAFRAME from the PDFs.\n",
        "\n",
        "Find a method/ strategy/ algorithm/ pre-trained models to identify the table contents, for all PDFs given and implement in Python.\n",
        "\n",
        "Extract all the columns as close as possible to the PDF given.\n",
        "\n"
      ],
      "metadata": {
        "id": "k53Mazp6dmu2"
      }
    },
    {
      "cell_type": "code",
      "execution_count": 1,
      "metadata": {
        "colab": {
          "base_uri": "https://localhost:8080/",
          "height": 1000
        },
        "id": "wT7Fsh07dGnp",
        "outputId": "e5244c73-e387-478a-e5a7-9b4ff183cd30"
      },
      "outputs": [
        {
          "output_type": "stream",
          "name": "stdout",
          "text": [
            "Collecting pdf2image\n",
            "  Downloading pdf2image-1.16.3-py3-none-any.whl (11 kB)\n",
            "Requirement already satisfied: pillow in /usr/local/lib/python3.10/dist-packages (from pdf2image) (9.4.0)\n",
            "Installing collected packages: pdf2image\n",
            "Successfully installed pdf2image-1.16.3\n",
            "Reading package lists... Done\n",
            "Building dependency tree... Done\n",
            "Reading state information... Done\n",
            "The following NEW packages will be installed:\n",
            "  poppler-utils\n",
            "0 upgraded, 1 newly installed, 0 to remove and 15 not upgraded.\n",
            "Need to get 186 kB of archives.\n",
            "After this operation, 696 kB of additional disk space will be used.\n",
            "Get:1 http://archive.ubuntu.com/ubuntu jammy-updates/main amd64 poppler-utils amd64 22.02.0-2ubuntu0.3 [186 kB]\n",
            "Fetched 186 kB in 0s (662 kB/s)\n",
            "Selecting previously unselected package poppler-utils.\n",
            "(Reading database ... 120882 files and directories currently installed.)\n",
            "Preparing to unpack .../poppler-utils_22.02.0-2ubuntu0.3_amd64.deb ...\n",
            "Unpacking poppler-utils (22.02.0-2ubuntu0.3) ...\n",
            "Setting up poppler-utils (22.02.0-2ubuntu0.3) ...\n",
            "Processing triggers for man-db (2.10.2-1) ...\n",
            "Collecting layoutparser\n",
            "  Downloading layoutparser-0.3.4-py3-none-any.whl (19.2 MB)\n",
            "\u001b[2K     \u001b[90m━━━━━━━━━━━━━━━━━━━━━━━━━━━━━━━━━━━━━━━━\u001b[0m \u001b[32m19.2/19.2 MB\u001b[0m \u001b[31m69.6 MB/s\u001b[0m eta \u001b[36m0:00:00\u001b[0m\n",
            "\u001b[?25hRequirement already satisfied: numpy in /usr/local/lib/python3.10/dist-packages (from layoutparser) (1.23.5)\n",
            "Requirement already satisfied: opencv-python in /usr/local/lib/python3.10/dist-packages (from layoutparser) (4.8.0.76)\n",
            "Requirement already satisfied: scipy in /usr/local/lib/python3.10/dist-packages (from layoutparser) (1.11.4)\n",
            "Requirement already satisfied: pandas in /usr/local/lib/python3.10/dist-packages (from layoutparser) (1.5.3)\n",
            "Requirement already satisfied: pillow in /usr/local/lib/python3.10/dist-packages (from layoutparser) (9.4.0)\n",
            "Requirement already satisfied: pyyaml>=5.1 in /usr/local/lib/python3.10/dist-packages (from layoutparser) (6.0.1)\n",
            "Collecting iopath (from layoutparser)\n",
            "  Downloading iopath-0.1.10.tar.gz (42 kB)\n",
            "\u001b[2K     \u001b[90m━━━━━━━━━━━━━━━━━━━━━━━━━━━━━━━━━━━━━━━━\u001b[0m \u001b[32m42.2/42.2 kB\u001b[0m \u001b[31m7.1 MB/s\u001b[0m eta \u001b[36m0:00:00\u001b[0m\n",
            "\u001b[?25h  Preparing metadata (setup.py) ... \u001b[?25l\u001b[?25hdone\n",
            "Collecting pdfplumber (from layoutparser)\n",
            "  Downloading pdfplumber-0.10.3-py3-none-any.whl (48 kB)\n",
            "\u001b[2K     \u001b[90m━━━━━━━━━━━━━━━━━━━━━━━━━━━━━━━━━━━━━━━━\u001b[0m \u001b[32m49.0/49.0 kB\u001b[0m \u001b[31m8.7 MB/s\u001b[0m eta \u001b[36m0:00:00\u001b[0m\n",
            "\u001b[?25hRequirement already satisfied: pdf2image in /usr/local/lib/python3.10/dist-packages (from layoutparser) (1.16.3)\n",
            "Requirement already satisfied: tqdm in /usr/local/lib/python3.10/dist-packages (from iopath->layoutparser) (4.66.1)\n",
            "Requirement already satisfied: typing_extensions in /usr/local/lib/python3.10/dist-packages (from iopath->layoutparser) (4.5.0)\n",
            "Collecting portalocker (from iopath->layoutparser)\n",
            "  Downloading portalocker-2.8.2-py3-none-any.whl (17 kB)\n",
            "Requirement already satisfied: python-dateutil>=2.8.1 in /usr/local/lib/python3.10/dist-packages (from pandas->layoutparser) (2.8.2)\n",
            "Requirement already satisfied: pytz>=2020.1 in /usr/local/lib/python3.10/dist-packages (from pandas->layoutparser) (2023.3.post1)\n",
            "Collecting pdfminer.six==20221105 (from pdfplumber->layoutparser)\n",
            "  Downloading pdfminer.six-20221105-py3-none-any.whl (5.6 MB)\n",
            "\u001b[2K     \u001b[90m━━━━━━━━━━━━━━━━━━━━━━━━━━━━━━━━━━━━━━━━\u001b[0m \u001b[32m5.6/5.6 MB\u001b[0m \u001b[31m75.0 MB/s\u001b[0m eta \u001b[36m0:00:00\u001b[0m\n",
            "\u001b[?25hCollecting pypdfium2>=4.18.0 (from pdfplumber->layoutparser)\n",
            "  Downloading pypdfium2-4.24.0-py3-none-manylinux_2_17_x86_64.whl (3.0 MB)\n",
            "\u001b[2K     \u001b[90m━━━━━━━━━━━━━━━━━━━━━━━━━━━━━━━━━━━━━━━━\u001b[0m \u001b[32m3.0/3.0 MB\u001b[0m \u001b[31m90.4 MB/s\u001b[0m eta \u001b[36m0:00:00\u001b[0m\n",
            "\u001b[?25hRequirement already satisfied: charset-normalizer>=2.0.0 in /usr/local/lib/python3.10/dist-packages (from pdfminer.six==20221105->pdfplumber->layoutparser) (3.3.2)\n",
            "Requirement already satisfied: cryptography>=36.0.0 in /usr/local/lib/python3.10/dist-packages (from pdfminer.six==20221105->pdfplumber->layoutparser) (41.0.7)\n",
            "Requirement already satisfied: six>=1.5 in /usr/local/lib/python3.10/dist-packages (from python-dateutil>=2.8.1->pandas->layoutparser) (1.16.0)\n",
            "Requirement already satisfied: cffi>=1.12 in /usr/local/lib/python3.10/dist-packages (from cryptography>=36.0.0->pdfminer.six==20221105->pdfplumber->layoutparser) (1.16.0)\n",
            "Requirement already satisfied: pycparser in /usr/local/lib/python3.10/dist-packages (from cffi>=1.12->cryptography>=36.0.0->pdfminer.six==20221105->pdfplumber->layoutparser) (2.21)\n",
            "Building wheels for collected packages: iopath\n",
            "  Building wheel for iopath (setup.py) ... \u001b[?25l\u001b[?25hdone\n",
            "  Created wheel for iopath: filename=iopath-0.1.10-py3-none-any.whl size=31532 sha256=cfe454db5ed433a55c0d86ea04d63669c8da3f5e44dd118f7d2f7283f1a9d72d\n",
            "  Stored in directory: /root/.cache/pip/wheels/9a/a3/b6/ac0fcd1b4ed5cfeb3db92e6a0e476cfd48ed0df92b91080c1d\n",
            "Successfully built iopath\n",
            "Installing collected packages: pypdfium2, portalocker, iopath, pdfminer.six, pdfplumber, layoutparser\n",
            "Successfully installed iopath-0.1.10 layoutparser-0.3.4 pdfminer.six-20221105 pdfplumber-0.10.3 portalocker-2.8.2 pypdfium2-4.24.0\n",
            "Collecting paddleocr\n",
            "  Downloading paddleocr-2.7.0.3-py3-none-any.whl (465 kB)\n",
            "\u001b[2K     \u001b[90m━━━━━━━━━━━━━━━━━━━━━━━━━━━━━━━━━━━━━━━━\u001b[0m \u001b[32m465.7/465.7 kB\u001b[0m \u001b[31m4.1 MB/s\u001b[0m eta \u001b[36m0:00:00\u001b[0m\n",
            "\u001b[?25hRequirement already satisfied: shapely in /usr/local/lib/python3.10/dist-packages (from paddleocr) (2.0.2)\n",
            "Requirement already satisfied: scikit-image in /usr/local/lib/python3.10/dist-packages (from paddleocr) (0.19.3)\n",
            "Requirement already satisfied: imgaug in /usr/local/lib/python3.10/dist-packages (from paddleocr) (0.4.0)\n",
            "Collecting pyclipper (from paddleocr)\n",
            "  Downloading pyclipper-1.3.0.post5-cp310-cp310-manylinux_2_12_x86_64.manylinux2010_x86_64.whl (908 kB)\n",
            "\u001b[2K     \u001b[90m━━━━━━━━━━━━━━━━━━━━━━━━━━━━━━━━━━━━━━━━\u001b[0m \u001b[32m908.3/908.3 kB\u001b[0m \u001b[31m22.0 MB/s\u001b[0m eta \u001b[36m0:00:00\u001b[0m\n",
            "\u001b[?25hCollecting lmdb (from paddleocr)\n",
            "  Downloading lmdb-1.4.1-cp310-cp310-manylinux_2_17_x86_64.manylinux2014_x86_64.whl (299 kB)\n",
            "\u001b[2K     \u001b[90m━━━━━━━━━━━━━━━━━━━━━━━━━━━━━━━━━━━━━━━━\u001b[0m \u001b[32m299.2/299.2 kB\u001b[0m \u001b[31m36.2 MB/s\u001b[0m eta \u001b[36m0:00:00\u001b[0m\n",
            "\u001b[?25hRequirement already satisfied: tqdm in /usr/local/lib/python3.10/dist-packages (from paddleocr) (4.66.1)\n",
            "Requirement already satisfied: numpy in /usr/local/lib/python3.10/dist-packages (from paddleocr) (1.23.5)\n",
            "Collecting visualdl (from paddleocr)\n",
            "  Downloading visualdl-2.5.3-py3-none-any.whl (6.3 MB)\n",
            "\u001b[2K     \u001b[90m━━━━━━━━━━━━━━━━━━━━━━━━━━━━━━━━━━━━━━━━\u001b[0m \u001b[32m6.3/6.3 MB\u001b[0m \u001b[31m43.9 MB/s\u001b[0m eta \u001b[36m0:00:00\u001b[0m\n",
            "\u001b[?25hCollecting rapidfuzz (from paddleocr)\n",
            "  Downloading rapidfuzz-3.5.2-cp310-cp310-manylinux_2_17_x86_64.manylinux2014_x86_64.whl (3.3 MB)\n",
            "\u001b[2K     \u001b[90m━━━━━━━━━━━━━━━━━━━━━━━━━━━━━━━━━━━━━━━━\u001b[0m \u001b[32m3.3/3.3 MB\u001b[0m \u001b[31m65.6 MB/s\u001b[0m eta \u001b[36m0:00:00\u001b[0m\n",
            "\u001b[?25hCollecting opencv-python<=4.6.0.66 (from paddleocr)\n",
            "  Downloading opencv_python-4.6.0.66-cp36-abi3-manylinux_2_17_x86_64.manylinux2014_x86_64.whl (60.9 MB)\n",
            "\u001b[2K     \u001b[90m━━━━━━━━━━━━━━━━━━━━━━━━━━━━━━━━━━━━━━━━\u001b[0m \u001b[32m60.9/60.9 MB\u001b[0m \u001b[31m11.7 MB/s\u001b[0m eta \u001b[36m0:00:00\u001b[0m\n",
            "\u001b[?25hCollecting opencv-contrib-python<=4.6.0.66 (from paddleocr)\n",
            "  Downloading opencv_contrib_python-4.6.0.66-cp36-abi3-manylinux_2_17_x86_64.manylinux2014_x86_64.whl (67.1 MB)\n",
            "\u001b[2K     \u001b[90m━━━━━━━━━━━━━━━━━━━━━━━━━━━━━━━━━━━━━━━━\u001b[0m \u001b[32m67.1/67.1 MB\u001b[0m \u001b[31m10.0 MB/s\u001b[0m eta \u001b[36m0:00:00\u001b[0m\n",
            "\u001b[?25hRequirement already satisfied: cython in /usr/local/lib/python3.10/dist-packages (from paddleocr) (3.0.6)\n",
            "Requirement already satisfied: lxml in /usr/local/lib/python3.10/dist-packages (from paddleocr) (4.9.3)\n",
            "Collecting premailer (from paddleocr)\n",
            "  Downloading premailer-3.10.0-py2.py3-none-any.whl (19 kB)\n",
            "Requirement already satisfied: openpyxl in /usr/local/lib/python3.10/dist-packages (from paddleocr) (3.1.2)\n",
            "Collecting attrdict (from paddleocr)\n",
            "  Downloading attrdict-2.0.1-py2.py3-none-any.whl (9.9 kB)\n",
            "Collecting PyMuPDF<1.21.0 (from paddleocr)\n",
            "  Downloading PyMuPDF-1.20.2-cp310-cp310-manylinux_2_17_x86_64.manylinux2014_x86_64.whl (8.9 MB)\n",
            "\u001b[2K     \u001b[90m━━━━━━━━━━━━━━━━━━━━━━━━━━━━━━━━━━━━━━━━\u001b[0m \u001b[32m8.9/8.9 MB\u001b[0m \u001b[31m59.2 MB/s\u001b[0m eta \u001b[36m0:00:00\u001b[0m\n",
            "\u001b[?25hCollecting Pillow>=10.0.0 (from paddleocr)\n",
            "  Downloading Pillow-10.1.0-cp310-cp310-manylinux_2_28_x86_64.whl (3.6 MB)\n",
            "\u001b[2K     \u001b[90m━━━━━━━━━━━━━━━━━━━━━━━━━━━━━━━━━━━━━━━━\u001b[0m \u001b[32m3.6/3.6 MB\u001b[0m \u001b[31m65.8 MB/s\u001b[0m eta \u001b[36m0:00:00\u001b[0m\n",
            "\u001b[?25hRequirement already satisfied: pyyaml in /usr/local/lib/python3.10/dist-packages (from paddleocr) (6.0.1)\n",
            "Collecting python-docx (from paddleocr)\n",
            "  Downloading python_docx-1.1.0-py3-none-any.whl (239 kB)\n",
            "\u001b[2K     \u001b[90m━━━━━━━━━━━━━━━━━━━━━━━━━━━━━━━━━━━━━━━━\u001b[0m \u001b[32m239.6/239.6 kB\u001b[0m \u001b[31m32.2 MB/s\u001b[0m eta \u001b[36m0:00:00\u001b[0m\n",
            "\u001b[?25hRequirement already satisfied: beautifulsoup4 in /usr/local/lib/python3.10/dist-packages (from paddleocr) (4.11.2)\n",
            "Requirement already satisfied: fonttools>=4.24.0 in /usr/local/lib/python3.10/dist-packages (from paddleocr) (4.45.1)\n",
            "Collecting fire>=0.3.0 (from paddleocr)\n",
            "  Downloading fire-0.5.0.tar.gz (88 kB)\n",
            "\u001b[2K     \u001b[90m━━━━━━━━━━━━━━━━━━━━━━━━━━━━━━━━━━━━━━━━\u001b[0m \u001b[32m88.3/88.3 kB\u001b[0m \u001b[31m13.2 MB/s\u001b[0m eta \u001b[36m0:00:00\u001b[0m\n",
            "\u001b[?25h  Preparing metadata (setup.py) ... \u001b[?25l\u001b[?25hdone\n",
            "Collecting pdf2docx (from paddleocr)\n",
            "  Downloading pdf2docx-0.5.6-py3-none-any.whl (148 kB)\n",
            "\u001b[2K     \u001b[90m━━━━━━━━━━━━━━━━━━━━━━━━━━━━━━━━━━━━━━━━\u001b[0m \u001b[32m148.4/148.4 kB\u001b[0m \u001b[31m22.3 MB/s\u001b[0m eta \u001b[36m0:00:00\u001b[0m\n",
            "\u001b[?25hRequirement already satisfied: six in /usr/local/lib/python3.10/dist-packages (from fire>=0.3.0->paddleocr) (1.16.0)\n",
            "Requirement already satisfied: termcolor in /usr/local/lib/python3.10/dist-packages (from fire>=0.3.0->paddleocr) (2.3.0)\n",
            "Requirement already satisfied: soupsieve>1.2 in /usr/local/lib/python3.10/dist-packages (from beautifulsoup4->paddleocr) (2.5)\n",
            "Requirement already satisfied: scipy in /usr/local/lib/python3.10/dist-packages (from imgaug->paddleocr) (1.11.4)\n",
            "Requirement already satisfied: matplotlib in /usr/local/lib/python3.10/dist-packages (from imgaug->paddleocr) (3.7.1)\n",
            "Requirement already satisfied: imageio in /usr/local/lib/python3.10/dist-packages (from imgaug->paddleocr) (2.31.6)\n",
            "Requirement already satisfied: networkx>=2.2 in /usr/local/lib/python3.10/dist-packages (from scikit-image->paddleocr) (3.2.1)\n",
            "Requirement already satisfied: tifffile>=2019.7.26 in /usr/local/lib/python3.10/dist-packages (from scikit-image->paddleocr) (2023.9.26)\n",
            "Requirement already satisfied: PyWavelets>=1.1.1 in /usr/local/lib/python3.10/dist-packages (from scikit-image->paddleocr) (1.5.0)\n",
            "Requirement already satisfied: packaging>=20.0 in /usr/local/lib/python3.10/dist-packages (from scikit-image->paddleocr) (23.2)\n",
            "Requirement already satisfied: et-xmlfile in /usr/local/lib/python3.10/dist-packages (from openpyxl->paddleocr) (1.1.0)\n",
            "Requirement already satisfied: typing-extensions in /usr/local/lib/python3.10/dist-packages (from python-docx->paddleocr) (4.5.0)\n",
            "Collecting cssselect (from premailer->paddleocr)\n",
            "  Downloading cssselect-1.2.0-py2.py3-none-any.whl (18 kB)\n",
            "Collecting cssutils (from premailer->paddleocr)\n",
            "  Downloading cssutils-2.9.0-py3-none-any.whl (398 kB)\n",
            "\u001b[2K     \u001b[90m━━━━━━━━━━━━━━━━━━━━━━━━━━━━━━━━━━━━━━━━\u001b[0m \u001b[32m398.5/398.5 kB\u001b[0m \u001b[31m50.9 MB/s\u001b[0m eta \u001b[36m0:00:00\u001b[0m\n",
            "\u001b[?25hRequirement already satisfied: requests in /usr/local/lib/python3.10/dist-packages (from premailer->paddleocr) (2.31.0)\n",
            "Requirement already satisfied: cachetools in /usr/local/lib/python3.10/dist-packages (from premailer->paddleocr) (5.3.2)\n",
            "Collecting bce-python-sdk (from visualdl->paddleocr)\n",
            "  Downloading bce_python_sdk-0.8.97-py3-none-any.whl (241 kB)\n",
            "\u001b[2K     \u001b[90m━━━━━━━━━━━━━━━━━━━━━━━━━━━━━━━━━━━━━━━━\u001b[0m \u001b[32m241.5/241.5 kB\u001b[0m \u001b[31m34.4 MB/s\u001b[0m eta \u001b[36m0:00:00\u001b[0m\n",
            "\u001b[?25hRequirement already satisfied: flask>=1.1.1 in /usr/local/lib/python3.10/dist-packages (from visualdl->paddleocr) (2.2.5)\n",
            "Collecting Flask-Babel>=3.0.0 (from visualdl->paddleocr)\n",
            "  Downloading flask_babel-4.0.0-py3-none-any.whl (9.6 kB)\n",
            "Requirement already satisfied: protobuf>=3.20.0 in /usr/local/lib/python3.10/dist-packages (from visualdl->paddleocr) (3.20.3)\n",
            "Requirement already satisfied: pandas in /usr/local/lib/python3.10/dist-packages (from visualdl->paddleocr) (1.5.3)\n",
            "Collecting rarfile (from visualdl->paddleocr)\n",
            "  Downloading rarfile-4.1-py3-none-any.whl (28 kB)\n",
            "Requirement already satisfied: psutil in /usr/local/lib/python3.10/dist-packages (from visualdl->paddleocr) (5.9.5)\n",
            "Requirement already satisfied: Werkzeug>=2.2.2 in /usr/local/lib/python3.10/dist-packages (from flask>=1.1.1->visualdl->paddleocr) (3.0.1)\n",
            "Requirement already satisfied: Jinja2>=3.0 in /usr/local/lib/python3.10/dist-packages (from flask>=1.1.1->visualdl->paddleocr) (3.1.2)\n",
            "Requirement already satisfied: itsdangerous>=2.0 in /usr/local/lib/python3.10/dist-packages (from flask>=1.1.1->visualdl->paddleocr) (2.1.2)\n",
            "Requirement already satisfied: click>=8.0 in /usr/local/lib/python3.10/dist-packages (from flask>=1.1.1->visualdl->paddleocr) (8.1.7)\n",
            "Requirement already satisfied: Babel>=2.12 in /usr/local/lib/python3.10/dist-packages (from Flask-Babel>=3.0.0->visualdl->paddleocr) (2.13.1)\n",
            "Requirement already satisfied: pytz>=2022.7 in /usr/local/lib/python3.10/dist-packages (from Flask-Babel>=3.0.0->visualdl->paddleocr) (2023.3.post1)\n",
            "Collecting Pillow>=10.0.0 (from paddleocr)\n",
            "  Downloading Pillow-10.0.1-cp310-cp310-manylinux_2_28_x86_64.whl (3.6 MB)\n",
            "\u001b[2K     \u001b[90m━━━━━━━━━━━━━━━━━━━━━━━━━━━━━━━━━━━━━━━━\u001b[0m \u001b[32m3.6/3.6 MB\u001b[0m \u001b[31m68.9 MB/s\u001b[0m eta \u001b[36m0:00:00\u001b[0m\n",
            "\u001b[?25hCollecting pycryptodome>=3.8.0 (from bce-python-sdk->visualdl->paddleocr)\n",
            "  Downloading pycryptodome-3.19.0-cp35-abi3-manylinux_2_17_x86_64.manylinux2014_x86_64.whl (2.1 MB)\n",
            "\u001b[2K     \u001b[90m━━━━━━━━━━━━━━━━━━━━━━━━━━━━━━━━━━━━━━━━\u001b[0m \u001b[32m2.1/2.1 MB\u001b[0m \u001b[31m58.7 MB/s\u001b[0m eta \u001b[36m0:00:00\u001b[0m\n",
            "\u001b[?25hRequirement already satisfied: future>=0.6.0 in /usr/local/lib/python3.10/dist-packages (from bce-python-sdk->visualdl->paddleocr) (0.18.3)\n",
            "Requirement already satisfied: contourpy>=1.0.1 in /usr/local/lib/python3.10/dist-packages (from matplotlib->imgaug->paddleocr) (1.2.0)\n",
            "Requirement already satisfied: cycler>=0.10 in /usr/local/lib/python3.10/dist-packages (from matplotlib->imgaug->paddleocr) (0.12.1)\n",
            "Requirement already satisfied: kiwisolver>=1.0.1 in /usr/local/lib/python3.10/dist-packages (from matplotlib->imgaug->paddleocr) (1.4.5)\n",
            "Requirement already satisfied: pyparsing>=2.3.1 in /usr/local/lib/python3.10/dist-packages (from matplotlib->imgaug->paddleocr) (3.1.1)\n",
            "Requirement already satisfied: python-dateutil>=2.7 in /usr/local/lib/python3.10/dist-packages (from matplotlib->imgaug->paddleocr) (2.8.2)\n",
            "Requirement already satisfied: charset-normalizer<4,>=2 in /usr/local/lib/python3.10/dist-packages (from requests->premailer->paddleocr) (3.3.2)\n",
            "Requirement already satisfied: idna<4,>=2.5 in /usr/local/lib/python3.10/dist-packages (from requests->premailer->paddleocr) (3.6)\n",
            "Requirement already satisfied: urllib3<3,>=1.21.1 in /usr/local/lib/python3.10/dist-packages (from requests->premailer->paddleocr) (2.0.7)\n",
            "Requirement already satisfied: certifi>=2017.4.17 in /usr/local/lib/python3.10/dist-packages (from requests->premailer->paddleocr) (2023.11.17)\n",
            "Requirement already satisfied: MarkupSafe>=2.0 in /usr/local/lib/python3.10/dist-packages (from Jinja2>=3.0->flask>=1.1.1->visualdl->paddleocr) (2.1.3)\n",
            "Building wheels for collected packages: fire\n",
            "  Building wheel for fire (setup.py) ... \u001b[?25l\u001b[?25hdone\n",
            "  Created wheel for fire: filename=fire-0.5.0-py2.py3-none-any.whl size=116934 sha256=bc9ca03bcc3040db788cdaf7492d8d2d315602c4b41a4def3c88441ca277d224\n",
            "  Stored in directory: /root/.cache/pip/wheels/90/d4/f7/9404e5db0116bd4d43e5666eaa3e70ab53723e1e3ea40c9a95\n",
            "Successfully built fire\n",
            "Installing collected packages: pyclipper, lmdb, rarfile, rapidfuzz, python-docx, PyMuPDF, pycryptodome, Pillow, opencv-python, opencv-contrib-python, fire, cssutils, cssselect, attrdict, premailer, pdf2docx, bce-python-sdk, Flask-Babel, visualdl, paddleocr\n",
            "  Attempting uninstall: Pillow\n",
            "    Found existing installation: Pillow 9.4.0\n",
            "    Uninstalling Pillow-9.4.0:\n",
            "      Successfully uninstalled Pillow-9.4.0\n",
            "  Attempting uninstall: opencv-python\n",
            "    Found existing installation: opencv-python 4.8.0.76\n",
            "    Uninstalling opencv-python-4.8.0.76:\n",
            "      Successfully uninstalled opencv-python-4.8.0.76\n",
            "  Attempting uninstall: opencv-contrib-python\n",
            "    Found existing installation: opencv-contrib-python 4.8.0.76\n",
            "    Uninstalling opencv-contrib-python-4.8.0.76:\n",
            "      Successfully uninstalled opencv-contrib-python-4.8.0.76\n",
            "Successfully installed Flask-Babel-4.0.0 Pillow-10.0.1 PyMuPDF-1.20.2 attrdict-2.0.1 bce-python-sdk-0.8.97 cssselect-1.2.0 cssutils-2.9.0 fire-0.5.0 lmdb-1.4.1 opencv-contrib-python-4.6.0.66 opencv-python-4.6.0.66 paddleocr-2.7.0.3 pdf2docx-0.5.6 premailer-3.10.0 pyclipper-1.3.0.post5 pycryptodome-3.19.0 python-docx-1.1.0 rapidfuzz-3.5.2 rarfile-4.1 visualdl-2.5.3\n"
          ]
        },
        {
          "output_type": "display_data",
          "data": {
            "application/vnd.colab-display-data+json": {
              "pip_warning": {
                "packages": [
                  "PIL"
                ]
              }
            }
          },
          "metadata": {}
        },
        {
          "output_type": "stream",
          "name": "stdout",
          "text": [
            "Collecting paddlepaddle\n",
            "  Downloading paddlepaddle-2.5.2-cp310-cp310-manylinux1_x86_64.whl (126.5 MB)\n",
            "\u001b[2K     \u001b[90m━━━━━━━━━━━━━━━━━━━━━━━━━━━━━━━━━━━━━━━━\u001b[0m \u001b[32m126.5/126.5 MB\u001b[0m \u001b[31m6.4 MB/s\u001b[0m eta \u001b[36m0:00:00\u001b[0m\n",
            "\u001b[?25hCollecting httpx (from paddlepaddle)\n",
            "  Downloading httpx-0.25.2-py3-none-any.whl (74 kB)\n",
            "\u001b[2K     \u001b[90m━━━━━━━━━━━━━━━━━━━━━━━━━━━━━━━━━━━━━━━━\u001b[0m \u001b[32m75.0/75.0 kB\u001b[0m \u001b[31m11.6 MB/s\u001b[0m eta \u001b[36m0:00:00\u001b[0m\n",
            "\u001b[?25hRequirement already satisfied: numpy>=1.13 in /usr/local/lib/python3.10/dist-packages (from paddlepaddle) (1.23.5)\n",
            "Requirement already satisfied: Pillow in /usr/local/lib/python3.10/dist-packages (from paddlepaddle) (10.0.1)\n",
            "Requirement already satisfied: decorator in /usr/local/lib/python3.10/dist-packages (from paddlepaddle) (4.4.2)\n",
            "Collecting astor (from paddlepaddle)\n",
            "  Downloading astor-0.8.1-py2.py3-none-any.whl (27 kB)\n",
            "Requirement already satisfied: opt-einsum==3.3.0 in /usr/local/lib/python3.10/dist-packages (from paddlepaddle) (3.3.0)\n",
            "Requirement already satisfied: protobuf>=3.20.2 in /usr/local/lib/python3.10/dist-packages (from paddlepaddle) (3.20.3)\n",
            "Requirement already satisfied: anyio in /usr/local/lib/python3.10/dist-packages (from httpx->paddlepaddle) (3.7.1)\n",
            "Requirement already satisfied: certifi in /usr/local/lib/python3.10/dist-packages (from httpx->paddlepaddle) (2023.11.17)\n",
            "Collecting httpcore==1.* (from httpx->paddlepaddle)\n",
            "  Downloading httpcore-1.0.2-py3-none-any.whl (76 kB)\n",
            "\u001b[2K     \u001b[90m━━━━━━━━━━━━━━━━━━━━━━━━━━━━━━━━━━━━━━━━\u001b[0m \u001b[32m76.9/76.9 kB\u001b[0m \u001b[31m11.7 MB/s\u001b[0m eta \u001b[36m0:00:00\u001b[0m\n",
            "\u001b[?25hRequirement already satisfied: idna in /usr/local/lib/python3.10/dist-packages (from httpx->paddlepaddle) (3.6)\n",
            "Requirement already satisfied: sniffio in /usr/local/lib/python3.10/dist-packages (from httpx->paddlepaddle) (1.3.0)\n",
            "Collecting h11<0.15,>=0.13 (from httpcore==1.*->httpx->paddlepaddle)\n",
            "  Downloading h11-0.14.0-py3-none-any.whl (58 kB)\n",
            "\u001b[2K     \u001b[90m━━━━━━━━━━━━━━━━━━━━━━━━━━━━━━━━━━━━━━━━\u001b[0m \u001b[32m58.3/58.3 kB\u001b[0m \u001b[31m10.3 MB/s\u001b[0m eta \u001b[36m0:00:00\u001b[0m\n",
            "\u001b[?25hRequirement already satisfied: exceptiongroup in /usr/local/lib/python3.10/dist-packages (from anyio->httpx->paddlepaddle) (1.2.0)\n",
            "Installing collected packages: h11, astor, httpcore, httpx, paddlepaddle\n",
            "Successfully installed astor-0.8.1 h11-0.14.0 httpcore-1.0.2 httpx-0.25.2 paddlepaddle-2.5.2\n"
          ]
        }
      ],
      "source": [
        "# Installing required packages\n",
        "\n",
        "!pip install pdf2image   # Used to convert pdf to image\n",
        "!apt-get install poppler-utils\n",
        "!pip install layoutparser   # Used to convert pdf to image\n",
        "!pip install paddleocr   # Used for detection and recoginition of text\n",
        "!pip install paddlepaddle"
      ]
    },
    {
      "cell_type": "code",
      "source": [
        "# converting the pdf into image\n",
        "\n",
        "from pdf2image import convert_from_path\n",
        "images = convert_from_path('/content/Pdf_3.pdf')"
      ],
      "metadata": {
        "id": "2IB2LZLVd0_y"
      },
      "execution_count": 124,
      "outputs": []
    },
    {
      "cell_type": "code",
      "source": [
        "!mkdir pages"
      ],
      "metadata": {
        "id": "2OyPOm0ieCwY"
      },
      "execution_count": 3,
      "outputs": []
    },
    {
      "cell_type": "code",
      "source": [
        "# Save the images in the pages folder\n",
        "\n",
        "for i in range(len(images)):\n",
        "  images[i].save('pages/page'+str(i)+'.jpg','JPEG')"
      ],
      "metadata": {
        "id": "X6ff69wneDyV"
      },
      "execution_count": 126,
      "outputs": []
    },
    {
      "cell_type": "markdown",
      "source": [
        "## Table Extraction"
      ],
      "metadata": {
        "id": "eg6p06PsRnyi"
      }
    },
    {
      "cell_type": "markdown",
      "source": [
        "Installing Detectron2.\n",
        "\n",
        "Detectron2 is a framework for object detection."
      ],
      "metadata": {
        "id": "a8ERDeG4gyVG"
      }
    },
    {
      "cell_type": "code",
      "source": [
        "!pip install 'git+https://github.com/facebookresearch/detectron2.git@v0.4#egg=detectron2'"
      ],
      "metadata": {
        "colab": {
          "base_uri": "https://localhost:8080/",
          "height": 1000
        },
        "id": "qK6J6bMLfgJl",
        "outputId": "1813e2ab-bafc-40dd-ecd7-85e55635f672"
      },
      "execution_count": 6,
      "outputs": [
        {
          "output_type": "stream",
          "name": "stdout",
          "text": [
            "Collecting detectron2\n",
            "  Cloning https://github.com/facebookresearch/detectron2.git (to revision v0.4) to /tmp/pip-install-2miheuqh/detectron2_fd5eb1d442024dc5ab57b82c72958bd2\n",
            "  Running command git clone --filter=blob:none --quiet https://github.com/facebookresearch/detectron2.git /tmp/pip-install-2miheuqh/detectron2_fd5eb1d442024dc5ab57b82c72958bd2\n",
            "  Running command git checkout -q 4aca4bdaa9ad48b8e91d7520e0d0815bb8ca0fb1\n",
            "  Resolved https://github.com/facebookresearch/detectron2.git to commit 4aca4bdaa9ad48b8e91d7520e0d0815bb8ca0fb1\n",
            "  Preparing metadata (setup.py) ... \u001b[?25l\u001b[?25hdone\n",
            "Requirement already satisfied: termcolor>=1.1 in /usr/local/lib/python3.10/dist-packages (from detectron2) (2.3.0)\n",
            "Requirement already satisfied: Pillow>=7.1 in /usr/local/lib/python3.10/dist-packages (from detectron2) (10.0.1)\n",
            "Collecting yacs>=0.1.6 (from detectron2)\n",
            "  Downloading yacs-0.1.8-py3-none-any.whl (14 kB)\n",
            "Requirement already satisfied: tabulate in /usr/local/lib/python3.10/dist-packages (from detectron2) (0.9.0)\n",
            "Requirement already satisfied: cloudpickle in /usr/local/lib/python3.10/dist-packages (from detectron2) (2.2.1)\n",
            "Requirement already satisfied: matplotlib in /usr/local/lib/python3.10/dist-packages (from detectron2) (3.7.1)\n",
            "Requirement already satisfied: tqdm>4.29.0 in /usr/local/lib/python3.10/dist-packages (from detectron2) (4.66.1)\n",
            "Requirement already satisfied: tensorboard in /usr/local/lib/python3.10/dist-packages (from detectron2) (2.14.1)\n",
            "Collecting fvcore<0.1.4,>=0.1.3 (from detectron2)\n",
            "  Downloading fvcore-0.1.3.post20210317.tar.gz (47 kB)\n",
            "\u001b[2K     \u001b[90m━━━━━━━━━━━━━━━━━━━━━━━━━━━━━━━━━━━━━━━━\u001b[0m \u001b[32m47.5/47.5 kB\u001b[0m \u001b[31m1.8 MB/s\u001b[0m eta \u001b[36m0:00:00\u001b[0m\n",
            "\u001b[?25h  Preparing metadata (setup.py) ... \u001b[?25l\u001b[?25hdone\n",
            "Requirement already satisfied: iopath>=0.1.2 in /usr/local/lib/python3.10/dist-packages (from detectron2) (0.1.10)\n",
            "Requirement already satisfied: pycocotools>=2.0.2 in /usr/local/lib/python3.10/dist-packages (from detectron2) (2.0.7)\n",
            "Requirement already satisfied: future in /usr/local/lib/python3.10/dist-packages (from detectron2) (0.18.3)\n",
            "Requirement already satisfied: pydot in /usr/local/lib/python3.10/dist-packages (from detectron2) (1.4.2)\n",
            "Collecting omegaconf>=2 (from detectron2)\n",
            "  Downloading omegaconf-2.3.0-py3-none-any.whl (79 kB)\n",
            "\u001b[2K     \u001b[90m━━━━━━━━━━━━━━━━━━━━━━━━━━━━━━━━━━━━━━━━\u001b[0m \u001b[32m79.5/79.5 kB\u001b[0m \u001b[31m4.2 MB/s\u001b[0m eta \u001b[36m0:00:00\u001b[0m\n",
            "\u001b[?25hRequirement already satisfied: numpy in /usr/local/lib/python3.10/dist-packages (from fvcore<0.1.4,>=0.1.3->detectron2) (1.23.5)\n",
            "Requirement already satisfied: pyyaml>=5.1 in /usr/local/lib/python3.10/dist-packages (from fvcore<0.1.4,>=0.1.3->detectron2) (6.0.1)\n",
            "Requirement already satisfied: typing-extensions in /usr/local/lib/python3.10/dist-packages (from iopath>=0.1.2->detectron2) (4.5.0)\n",
            "Requirement already satisfied: portalocker in /usr/local/lib/python3.10/dist-packages (from iopath>=0.1.2->detectron2) (2.8.2)\n",
            "Collecting antlr4-python3-runtime==4.9.* (from omegaconf>=2->detectron2)\n",
            "  Downloading antlr4-python3-runtime-4.9.3.tar.gz (117 kB)\n",
            "\u001b[2K     \u001b[90m━━━━━━━━━━━━━━━━━━━━━━━━━━━━━━━━━━━━━━━━\u001b[0m \u001b[32m117.0/117.0 kB\u001b[0m \u001b[31m5.2 MB/s\u001b[0m eta \u001b[36m0:00:00\u001b[0m\n",
            "\u001b[?25h  Preparing metadata (setup.py) ... \u001b[?25l\u001b[?25hdone\n",
            "Requirement already satisfied: contourpy>=1.0.1 in /usr/local/lib/python3.10/dist-packages (from matplotlib->detectron2) (1.2.0)\n",
            "Requirement already satisfied: cycler>=0.10 in /usr/local/lib/python3.10/dist-packages (from matplotlib->detectron2) (0.12.1)\n",
            "Requirement already satisfied: fonttools>=4.22.0 in /usr/local/lib/python3.10/dist-packages (from matplotlib->detectron2) (4.45.1)\n",
            "Requirement already satisfied: kiwisolver>=1.0.1 in /usr/local/lib/python3.10/dist-packages (from matplotlib->detectron2) (1.4.5)\n",
            "Requirement already satisfied: packaging>=20.0 in /usr/local/lib/python3.10/dist-packages (from matplotlib->detectron2) (23.2)\n",
            "Requirement already satisfied: pyparsing>=2.3.1 in /usr/local/lib/python3.10/dist-packages (from matplotlib->detectron2) (3.1.1)\n",
            "Requirement already satisfied: python-dateutil>=2.7 in /usr/local/lib/python3.10/dist-packages (from matplotlib->detectron2) (2.8.2)\n",
            "Requirement already satisfied: absl-py>=0.4 in /usr/local/lib/python3.10/dist-packages (from tensorboard->detectron2) (1.4.0)\n",
            "Requirement already satisfied: grpcio>=1.48.2 in /usr/local/lib/python3.10/dist-packages (from tensorboard->detectron2) (1.59.3)\n",
            "Requirement already satisfied: google-auth<3,>=1.6.3 in /usr/local/lib/python3.10/dist-packages (from tensorboard->detectron2) (2.17.3)\n",
            "Requirement already satisfied: google-auth-oauthlib<1.1,>=0.5 in /usr/local/lib/python3.10/dist-packages (from tensorboard->detectron2) (1.0.0)\n",
            "Requirement already satisfied: markdown>=2.6.8 in /usr/local/lib/python3.10/dist-packages (from tensorboard->detectron2) (3.5.1)\n",
            "Requirement already satisfied: protobuf>=3.19.6 in /usr/local/lib/python3.10/dist-packages (from tensorboard->detectron2) (3.20.3)\n",
            "Requirement already satisfied: requests<3,>=2.21.0 in /usr/local/lib/python3.10/dist-packages (from tensorboard->detectron2) (2.31.0)\n",
            "Requirement already satisfied: setuptools>=41.0.0 in /usr/local/lib/python3.10/dist-packages (from tensorboard->detectron2) (67.7.2)\n",
            "Requirement already satisfied: six>1.9 in /usr/local/lib/python3.10/dist-packages (from tensorboard->detectron2) (1.16.0)\n",
            "Requirement already satisfied: tensorboard-data-server<0.8.0,>=0.7.0 in /usr/local/lib/python3.10/dist-packages (from tensorboard->detectron2) (0.7.2)\n",
            "Requirement already satisfied: werkzeug>=1.0.1 in /usr/local/lib/python3.10/dist-packages (from tensorboard->detectron2) (3.0.1)\n",
            "Requirement already satisfied: cachetools<6.0,>=2.0.0 in /usr/local/lib/python3.10/dist-packages (from google-auth<3,>=1.6.3->tensorboard->detectron2) (5.3.2)\n",
            "Requirement already satisfied: pyasn1-modules>=0.2.1 in /usr/local/lib/python3.10/dist-packages (from google-auth<3,>=1.6.3->tensorboard->detectron2) (0.3.0)\n",
            "Requirement already satisfied: rsa<5,>=3.1.4 in /usr/local/lib/python3.10/dist-packages (from google-auth<3,>=1.6.3->tensorboard->detectron2) (4.9)\n",
            "Requirement already satisfied: requests-oauthlib>=0.7.0 in /usr/local/lib/python3.10/dist-packages (from google-auth-oauthlib<1.1,>=0.5->tensorboard->detectron2) (1.3.1)\n",
            "Requirement already satisfied: charset-normalizer<4,>=2 in /usr/local/lib/python3.10/dist-packages (from requests<3,>=2.21.0->tensorboard->detectron2) (3.3.2)\n",
            "Requirement already satisfied: idna<4,>=2.5 in /usr/local/lib/python3.10/dist-packages (from requests<3,>=2.21.0->tensorboard->detectron2) (3.6)\n",
            "Requirement already satisfied: urllib3<3,>=1.21.1 in /usr/local/lib/python3.10/dist-packages (from requests<3,>=2.21.0->tensorboard->detectron2) (2.0.7)\n",
            "Requirement already satisfied: certifi>=2017.4.17 in /usr/local/lib/python3.10/dist-packages (from requests<3,>=2.21.0->tensorboard->detectron2) (2023.11.17)\n",
            "Requirement already satisfied: MarkupSafe>=2.1.1 in /usr/local/lib/python3.10/dist-packages (from werkzeug>=1.0.1->tensorboard->detectron2) (2.1.3)\n",
            "Requirement already satisfied: pyasn1<0.6.0,>=0.4.6 in /usr/local/lib/python3.10/dist-packages (from pyasn1-modules>=0.2.1->google-auth<3,>=1.6.3->tensorboard->detectron2) (0.5.1)\n",
            "Requirement already satisfied: oauthlib>=3.0.0 in /usr/local/lib/python3.10/dist-packages (from requests-oauthlib>=0.7.0->google-auth-oauthlib<1.1,>=0.5->tensorboard->detectron2) (3.2.2)\n",
            "Building wheels for collected packages: detectron2, fvcore, antlr4-python3-runtime\n",
            "  Building wheel for detectron2 (setup.py) ... \u001b[?25l\u001b[?25hdone\n",
            "  Created wheel for detectron2: filename=detectron2-0.4-cp310-cp310-linux_x86_64.whl size=6021273 sha256=57acbc38d3fc253485f173b2b093201f9944f20939459f21346b747bd5b615d4\n",
            "  Stored in directory: /tmp/pip-ephem-wheel-cache-pd0b3hnd/wheels/e3/ba/71/676be3a40b4567a79c3d27292f7dc15b46b7cf39224a867d66\n",
            "  Building wheel for fvcore (setup.py) ... \u001b[?25l\u001b[?25hdone\n",
            "  Created wheel for fvcore: filename=fvcore-0.1.3.post20210317-py3-none-any.whl size=58512 sha256=6b384cd1e5d48611f531a3a306bec5a17ae2c369e91f7e92ed4c773433b5c77a\n",
            "  Stored in directory: /root/.cache/pip/wheels/3b/2c/49/75fd2dfc9b4dd436f7d4a7cc1919d689a7c98523489910f6fb\n",
            "  Building wheel for antlr4-python3-runtime (setup.py) ... \u001b[?25l\u001b[?25hdone\n",
            "  Created wheel for antlr4-python3-runtime: filename=antlr4_python3_runtime-4.9.3-py3-none-any.whl size=144554 sha256=9ef3d333df6a6414f0e17ea4a64e3f6306d3e1770b893c7a854922ae9b0dfb36\n",
            "  Stored in directory: /root/.cache/pip/wheels/12/93/dd/1f6a127edc45659556564c5730f6d4e300888f4bca2d4c5a88\n",
            "Successfully built detectron2 fvcore antlr4-python3-runtime\n",
            "Installing collected packages: antlr4-python3-runtime, yacs, omegaconf, fvcore, detectron2\n",
            "Successfully installed antlr4-python3-runtime-4.9.3 detectron2-0.4 fvcore-0.1.3.post20210317 omegaconf-2.3.0 yacs-0.1.8\n"
          ]
        },
        {
          "output_type": "display_data",
          "data": {
            "application/vnd.colab-display-data+json": {
              "pip_warning": {
                "packages": [
                  "pydevd_plugins"
                ]
              }
            }
          },
          "metadata": {}
        }
      ]
    },
    {
      "cell_type": "markdown",
      "source": [
        "Detectron2LayoutModel: This is a layout analysis model provided by the layoutparser library. It utilizes the Detectron2 framework.\n",
        "\n",
        "'lp://PubLayNet/mask_rcnn_X_101_32x8d_FPN_3x/config': This is the configuration used for the underlying Detectron2 model.\n",
        "\n",
        "label_map is provided to map the class indices predicted by the model to human-readable class labels."
      ],
      "metadata": {
        "id": "EVjwHgp3i-gG"
      }
    },
    {
      "cell_type": "code",
      "source": [
        "import layoutparser as lp\n",
        "model = lp.models.Detectron2LayoutModel('lp://PubLayNet/mask_rcnn_X_101_32x8d_FPN_3x/config',\n",
        "                                        label_map={0: \"Text\", 1: \"Title\", 2: \"List\", 3:\"Table\", 4:\"Figure\"})"
      ],
      "metadata": {
        "id": "NuuxbsYq2sNH"
      },
      "execution_count": null,
      "outputs": []
    },
    {
      "cell_type": "code",
      "source": [
        "import cv2\n",
        "\n",
        "image = cv2.imread('/content/pages/page0.jpg')  # reading the image using OpenCV\n",
        "image = image[...,::-1]   # reverses the order of color channels in the image\n",
        "\n",
        "layout = model.detect(image)   # detects regions of interest"
      ],
      "metadata": {
        "id": "LprtK215eDu5"
      },
      "execution_count": 127,
      "outputs": []
    },
    {
      "cell_type": "code",
      "source": [
        "layout"
      ],
      "metadata": {
        "colab": {
          "base_uri": "https://localhost:8080/"
        },
        "id": "aRRMvMBzeS5m",
        "outputId": "32cf0c50-2faf-40e2-b7c1-57fa1c5582e1"
      },
      "execution_count": 128,
      "outputs": [
        {
          "output_type": "execute_result",
          "data": {
            "text/plain": [
              "Layout(_blocks=[TextBlock(block=Rectangle(x_1=811.51953125, y_1=900.5693359375, x_2=1237.476318359375, y_2=937.10791015625), text=None, id=None, type=Text, parent=None, next=None, score=0.946414053440094), TextBlock(block=Rectangle(x_1=147.8944549560547, y_1=2193.476318359375, x_2=870.4657592773438, y_2=2218.726806640625), text=None, id=None, type=Text, parent=None, next=None, score=0.9235463738441467), TextBlock(block=Rectangle(x_1=613.1077270507812, y_1=1714.3062744140625, x_2=1001.8030395507812, y_2=1750.34521484375), text=None, id=None, type=Title, parent=None, next=None, score=0.8993814587593079), TextBlock(block=Rectangle(x_1=142.2722625732422, y_1=790.6105346679688, x_2=612.0541381835938, y_2=826.7195434570312), text=None, id=None, type=Text, parent=None, next=None, score=0.8582791686058044), TextBlock(block=Rectangle(x_1=153.75367736816406, y_1=1792.8101806640625, x_2=682.9039916992188, y_2=1929.2313232421875), text=None, id=None, type=Title, parent=None, next=None, score=0.8550698757171631), TextBlock(block=Rectangle(x_1=143.26803588867188, y_1=1022.5210571289062, x_2=1477.865478515625, y_2=1423.919189453125), text=None, id=None, type=Figure, parent=None, next=None, score=0.8491314649581909), TextBlock(block=Rectangle(x_1=147.136962890625, y_1=1919.09423828125, x_2=685.7554321289062, y_2=1989.4862060546875), text=None, id=None, type=Text, parent=None, next=None, score=0.8282045125961304), TextBlock(block=Rectangle(x_1=1314.8443603515625, y_1=566.4103393554688, x_2=1464.99951171875, y_2=602.5614624023438), text=None, id=None, type=Title, parent=None, next=None, score=0.7327262759208679), TextBlock(block=Rectangle(x_1=144.98561096191406, y_1=578.4772338867188, x_2=731.3380126953125, y_2=736.0816040039062), text=None, id=None, type=Title, parent=None, next=None, score=0.585195779800415), TextBlock(block=Rectangle(x_1=1270.7474365234375, y_1=666.177490234375, x_2=1465.277099609375, y_2=699.0166015625), text=None, id=None, type=Text, parent=None, next=None, score=0.5116714239120483), TextBlock(block=Rectangle(x_1=161.69056701660156, y_1=1026.9661865234375, x_2=1482.8837890625, y_2=1423.3980712890625), text=None, id=None, type=Table, parent=None, next=None, score=0.4814206659793854), TextBlock(block=Rectangle(x_1=1351.831787109375, y_1=615.4095458984375, x_2=1465.7479248046875, y_2=649.0006713867188), text=None, id=None, type=Title, parent=None, next=None, score=0.47877341508865356), TextBlock(block=Rectangle(x_1=135.5435333251953, y_1=1779.0225830078125, x_2=709.6275024414062, y_2=2185.47314453125), text=None, id=None, type=Figure, parent=None, next=None, score=0.46193206310272217), TextBlock(block=Rectangle(x_1=142.11456298828125, y_1=537.197998046875, x_2=240.8700714111328, y_2=574.7149658203125), text=None, id=None, type=Title, parent=None, next=None, score=0.4554697275161743), TextBlock(block=Rectangle(x_1=1341.6407470703125, y_1=470.4183044433594, x_2=1463.7913818359375, y_2=504.1650085449219), text=None, id=None, type=Title, parent=None, next=None, score=0.44394370913505554), TextBlock(block=Rectangle(x_1=815.046875, y_1=812.2357177734375, x_2=1066.6947021484375, y_2=843.9946899414062), text=None, id=None, type=Text, parent=None, next=None, score=0.426733136177063), TextBlock(block=Rectangle(x_1=994.6344604492188, y_1=193.1998291015625, x_2=1424.5440673828125, y_2=222.84996032714844), text=None, id=None, type=Text, parent=None, next=None, score=0.42367684841156006), TextBlock(block=Rectangle(x_1=111.99260711669922, y_1=129.01197814941406, x_2=1496.8985595703125, y_2=910.4152221679688), text=None, id=None, type=Figure, parent=None, next=None, score=0.39003226161003113), TextBlock(block=Rectangle(x_1=142.8097381591797, y_1=640.9118041992188, x_2=318.2413635253906, y_2=720.9061279296875), text=None, id=None, type=Text, parent=None, next=None, score=0.3499145805835724), TextBlock(block=Rectangle(x_1=815.7860107421875, y_1=723.3429565429688, x_2=1030.1927490234375, y_2=754.0044555664062), text=None, id=None, type=Text, parent=None, next=None, score=0.3489481508731842), TextBlock(block=Rectangle(x_1=139.66720581054688, y_1=575.2470703125, x_2=717.6951293945312, y_2=649.9815673828125), text=None, id=None, type=Title, parent=None, next=None, score=0.34488990902900696), TextBlock(block=Rectangle(x_1=1334.596923828125, y_1=519.0405883789062, x_2=1465.061767578125, y_2=554.849853515625), text=None, id=None, type=Title, parent=None, next=None, score=0.33743196725845337), TextBlock(block=Rectangle(x_1=811.7510375976562, y_1=673.047119140625, x_2=1027.051513671875, y_2=705.1797485351562), text=None, id=None, type=Text, parent=None, next=None, score=0.3272326588630676), TextBlock(block=Rectangle(x_1=810.4006958007812, y_1=854.3136596679688, x_2=1116.5869140625, y_2=889.7304077148438), text=None, id=None, type=Text, parent=None, next=None, score=0.3057464361190796), TextBlock(block=Rectangle(x_1=1279.5301513671875, y_1=714.0823364257812, x_2=1468.744384765625, y_2=747.1243896484375), text=None, id=None, type=Text, parent=None, next=None, score=0.2969402074813843), TextBlock(block=Rectangle(x_1=817.0999755859375, y_1=770.4410400390625, x_2=1078.208984375, y_2=804.562255859375), text=None, id=None, type=Text, parent=None, next=None, score=0.28188714385032654), TextBlock(block=Rectangle(x_1=134.90516662597656, y_1=1124.70703125, x_2=1475.563232421875, y_2=2279.1552734375), text=None, id=None, type=Table, parent=None, next=None, score=0.27450844645500183), TextBlock(block=Rectangle(x_1=144.3423614501953, y_1=683.4862060546875, x_2=314.7237243652344, y_2=719.3449096679688), text=None, id=None, type=Text, parent=None, next=None, score=0.25196507573127747), TextBlock(block=Rectangle(x_1=713.6342163085938, y_1=258.2755432128906, x_2=892.8189697265625, y_2=291.48052978515625), text=None, id=None, type=Text, parent=None, next=None, score=0.2276896983385086), TextBlock(block=Rectangle(x_1=1351.939453125, y_1=615.8004150390625, x_2=1465.691650390625, y_2=648.8267211914062), text=None, id=None, type=Text, parent=None, next=None, score=0.22687292098999023), TextBlock(block=Rectangle(x_1=1334.175048828125, y_1=519.5067749023438, x_2=1465.758544921875, y_2=554.7166748046875), text=None, id=None, type=Text, parent=None, next=None, score=0.22614307701587677), TextBlock(block=Rectangle(x_1=1208.0360107421875, y_1=334.18011474609375, x_2=1417.016845703125, y_2=363.05023193359375), text=None, id=None, type=Text, parent=None, next=None, score=0.22452442348003387), TextBlock(block=Rectangle(x_1=124.25566864013672, y_1=1134.599365234375, x_2=1490.2894287109375, y_2=2269.00439453125), text=None, id=None, type=Figure, parent=None, next=None, score=0.21360251307487488), TextBlock(block=Rectangle(x_1=148.88644409179688, y_1=719.6871337890625, x_2=396.4028015136719, y_2=754.5810546875), text=None, id=None, type=Text, parent=None, next=None, score=0.20150896906852722), TextBlock(block=Rectangle(x_1=1040.0963134765625, y_1=362.05072021484375, x_2=1432.88037109375, y_2=397.3232116699219), text=None, id=None, type=Text, parent=None, next=None, score=0.18259651958942413), TextBlock(block=Rectangle(x_1=138.97569274902344, y_1=566.849609375, x_2=749.5764770507812, y_2=824.349365234375), text=None, id=None, type=Text, parent=None, next=None, score=0.17581863701343536), TextBlock(block=Rectangle(x_1=717.34716796875, y_1=194.01364135742188, x_2=1469.1651611328125, y_2=942.0813598632812), text=None, id=None, type=Figure, parent=None, next=None, score=0.16315224766731262), TextBlock(block=Rectangle(x_1=1268.119384765625, y_1=662.5147705078125, x_2=1467.778076171875, y_2=702.5728759765625), text=None, id=None, type=Title, parent=None, next=None, score=0.15932227671146393), TextBlock(block=Rectangle(x_1=811.7203979492188, y_1=576.7940063476562, x_2=1051.85009765625, y_2=607.902099609375), text=None, id=None, type=Text, parent=None, next=None, score=0.15871894359588623), TextBlock(block=Rectangle(x_1=1160.5504150390625, y_1=223.4896240234375, x_2=1426.724853515625, y_2=313.3272705078125), text=None, id=None, type=Text, parent=None, next=None, score=0.15233513712882996), TextBlock(block=Rectangle(x_1=677.7322387695312, y_1=220.98350524902344, x_2=1453.52294921875, y_2=914.3259887695312), text=None, id=None, type=Text, parent=None, next=None, score=0.15053154528141022), TextBlock(block=Rectangle(x_1=120.99146270751953, y_1=121.144287109375, x_2=1470.3533935546875, y_2=914.5975341796875), text=None, id=None, type=Table, parent=None, next=None, score=0.14507810771465302), TextBlock(block=Rectangle(x_1=143.6605987548828, y_1=1794.3126220703125, x_2=681.021728515625, y_2=2101.198486328125), text=None, id=None, type=Title, parent=None, next=None, score=0.1407347023487091), TextBlock(block=Rectangle(x_1=1143.40625, y_1=186.25460815429688, x_2=1421.7698974609375, y_2=382.38482666015625), text=None, id=None, type=Text, parent=None, next=None, score=0.1371304839849472), TextBlock(block=Rectangle(x_1=142.1666259765625, y_1=537.976318359375, x_2=241.2869110107422, y_2=574.6697387695312), text=None, id=None, type=Text, parent=None, next=None, score=0.13471445441246033), TextBlock(block=Rectangle(x_1=804.2086181640625, y_1=423.57684326171875, x_2=1086.8380126953125, y_2=458.1387634277344), text=None, id=None, type=Text, parent=None, next=None, score=0.12982557713985443), TextBlock(block=Rectangle(x_1=142.7203826904297, y_1=647.7708740234375, x_2=314.5537109375, y_2=682.0809936523438), text=None, id=None, type=Text, parent=None, next=None, score=0.12928321957588196), TextBlock(block=Rectangle(x_1=721.16845703125, y_1=198.6876220703125, x_2=1461.98388671875, y_2=950.9309692382812), text=None, id=None, type=Table, parent=None, next=None, score=0.12257424741983414), TextBlock(block=Rectangle(x_1=725.493408203125, y_1=963.0178833007812, x_2=1487.210205078125, y_2=2176.0791015625), text=None, id=None, type=Figure, parent=None, next=None, score=0.11952760070562363), TextBlock(block=Rectangle(x_1=140.8773193359375, y_1=759.4022216796875, x_2=258.5172424316406, y_2=790.7640380859375), text=None, id=None, type=Text, parent=None, next=None, score=0.11734712868928909), TextBlock(block=Rectangle(x_1=690.4307861328125, y_1=215.71878051757812, x_2=1452.5771484375, y_2=913.5169677734375), text=None, id=None, type=List, parent=None, next=None, score=0.11688560992479324), TextBlock(block=Rectangle(x_1=775.5088500976562, y_1=251.0681915283203, x_2=1425.24169921875, y_2=361.9278259277344), text=None, id=None, type=Text, parent=None, next=None, score=0.10785102844238281), TextBlock(block=Rectangle(x_1=1165.216552734375, y_1=278.885498046875, x_2=1405.63916015625, y_2=307.6059265136719), text=None, id=None, type=Text, parent=None, next=None, score=0.10291275382041931), TextBlock(block=Rectangle(x_1=147.69595336914062, y_1=1797.1624755859375, x_2=682.4370727539062, y_2=2113.85400390625), text=None, id=None, type=Text, parent=None, next=None, score=0.1027243435382843), TextBlock(block=Rectangle(x_1=1158.3702392578125, y_1=267.8140869140625, x_2=1424.346435546875, y_2=341.2833251953125), text=None, id=None, type=Text, parent=None, next=None, score=0.09869181364774704), TextBlock(block=Rectangle(x_1=811.41015625, y_1=623.252197265625, x_2=920.7611083984375, y_2=657.0816650390625), text=None, id=None, type=Text, parent=None, next=None, score=0.0980033352971077), TextBlock(block=Rectangle(x_1=142.21728515625, y_1=758.5382690429688, x_2=257.74493408203125, y_2=791.1679077148438), text=None, id=None, type=Title, parent=None, next=None, score=0.09741168469190598), TextBlock(block=Rectangle(x_1=143.5762939453125, y_1=1777.08447265625, x_2=708.6207275390625, y_2=2181.003173828125), text=None, id=None, type=List, parent=None, next=None, score=0.08829881995916367), TextBlock(block=Rectangle(x_1=812.595458984375, y_1=768.7627563476562, x_2=1074.8240966796875, y_2=806.0289916992188), text=None, id=None, type=Title, parent=None, next=None, score=0.08615795522928238), TextBlock(block=Rectangle(x_1=1279.6390380859375, y_1=713.6812744140625, x_2=1468.0263671875, y_2=747.5227661132812), text=None, id=None, type=Title, parent=None, next=None, score=0.0843849629163742), TextBlock(block=Rectangle(x_1=996.8220825195312, y_1=189.632080078125, x_2=1415.7991943359375, y_2=478.86346435546875), text=None, id=None, type=Text, parent=None, next=None, score=0.08337994664907455), TextBlock(block=Rectangle(x_1=139.29217529296875, y_1=1907.7078857421875, x_2=676.5426635742188, y_2=2007.8526611328125), text=None, id=None, type=Title, parent=None, next=None, score=0.08242502808570862), TextBlock(block=Rectangle(x_1=996.6937255859375, y_1=190.07464599609375, x_2=1436.245849609375, y_2=315.3638916015625), text=None, id=None, type=Text, parent=None, next=None, score=0.0772719457745552), TextBlock(block=Rectangle(x_1=809.623779296875, y_1=480.82403564453125, x_2=967.4411010742188, y_2=512.8867797851562), text=None, id=None, type=Text, parent=None, next=None, score=0.07629705965518951), TextBlock(block=Rectangle(x_1=146.4512176513672, y_1=690.3281860351562, x_2=387.4341735839844, y_2=759.2228393554688), text=None, id=None, type=Text, parent=None, next=None, score=0.07467568665742874), TextBlock(block=Rectangle(x_1=1314.5718994140625, y_1=566.6249389648438, x_2=1464.8934326171875, y_2=602.1796875), text=None, id=None, type=Text, parent=None, next=None, score=0.07343711704015732), TextBlock(block=Rectangle(x_1=807.1548461914062, y_1=854.0401000976562, x_2=1225.4014892578125, y_2=951.2254638671875), text=None, id=None, type=Text, parent=None, next=None, score=0.07185669243335724), TextBlock(block=Rectangle(x_1=1172.8477783203125, y_1=298.7203063964844, x_2=1416.2288818359375, y_2=367.20306396484375), text=None, id=None, type=Text, parent=None, next=None, score=0.07132280617952347), TextBlock(block=Rectangle(x_1=139.48001098632812, y_1=2164.579833984375, x_2=896.8435668945312, y_2=2221.595947265625), text=None, id=None, type=Text, parent=None, next=None, score=0.07121902704238892), TextBlock(block=Rectangle(x_1=1225.0914306640625, y_1=244.98655700683594, x_2=1426.1800537109375, y_2=278.25054931640625), text=None, id=None, type=Text, parent=None, next=None, score=0.06850055605173111), TextBlock(block=Rectangle(x_1=142.94699096679688, y_1=1990.173583984375, x_2=376.36505126953125, y_2=2020.6685791015625), text=None, id=None, type=Text, parent=None, next=None, score=0.06796246021986008), TextBlock(block=Rectangle(x_1=1153.7513427734375, y_1=306.68109130859375, x_2=1415.3665771484375, y_2=335.60614013671875), text=None, id=None, type=Text, parent=None, next=None, score=0.06557697057723999), TextBlock(block=Rectangle(x_1=890.719970703125, y_1=1723.1748046875, x_2=1471.927001953125, y_2=2016.698974609375), text=None, id=None, type=Figure, parent=None, next=None, score=0.06507036089897156), TextBlock(block=Rectangle(x_1=135.4600372314453, y_1=592.0785522460938, x_2=681.763916015625, y_2=818.70263671875), text=None, id=None, type=List, parent=None, next=None, score=0.06361463665962219), TextBlock(block=Rectangle(x_1=133.7376708984375, y_1=740.5992431640625, x_2=617.5556030273438, y_2=828.9729614257812), text=None, id=None, type=Text, parent=None, next=None, score=0.060225870460271835), TextBlock(block=Rectangle(x_1=143.1251678466797, y_1=631.5784912109375, x_2=671.39697265625, y_2=806.0177001953125), text=None, id=None, type=Title, parent=None, next=None, score=0.05261858552694321), TextBlock(block=Rectangle(x_1=147.4336395263672, y_1=1789.803466796875, x_2=692.0068969726562, y_2=1935.7449951171875), text=None, id=None, type=Text, parent=None, next=None, score=0.050886962562799454), TextBlock(block=Rectangle(x_1=143.11680603027344, y_1=665.8756103515625, x_2=658.8302612304688, y_2=804.9911499023438), text=None, id=None, type=Text, parent=None, next=None, score=0.050803881138563156), TextBlock(block=Rectangle(x_1=146.74229431152344, y_1=1988.27001953125, x_2=657.0935668945312, y_2=2161.8232421875), text=None, id=None, type=Figure, parent=None, next=None, score=0.05015474557876587)], page_data={})"
            ]
          },
          "metadata": {},
          "execution_count": 128
        }
      ]
    },
    {
      "cell_type": "code",
      "source": [
        "# Finding the co-ordinates of the table layout\n",
        "\n",
        "for l in layout:\n",
        "  if l.type == 'Table':\n",
        "    x_1 = int(l.block.x_1)\n",
        "    y_1 = int(l.block.y_1)\n",
        "    x_2 = int(l.block.x_2)\n",
        "    y_2 = int(l.block.y_2)\n",
        "    break"
      ],
      "metadata": {
        "id": "_7lmqxMuuhAz"
      },
      "execution_count": 129,
      "outputs": []
    },
    {
      "cell_type": "code",
      "source": [
        "print(x_1,y_1,x_2,y_2)"
      ],
      "metadata": {
        "colab": {
          "base_uri": "https://localhost:8080/"
        },
        "id": "WgVKg8VRPa9R",
        "outputId": "6a6988a7-715d-42cb-858c-60052cbbda27"
      },
      "execution_count": 130,
      "outputs": [
        {
          "output_type": "stream",
          "name": "stdout",
          "text": [
            "161 1026 1482 1423\n"
          ]
        }
      ]
    },
    {
      "cell_type": "code",
      "source": [
        "# Saving the extracted table image\n",
        "\n",
        "img = cv2.imread('/content/pages/page0.jpg')\n",
        "cv2.imwrite('extracted_img.jpg',img[y_1:y_2, x_1:x_2])"
      ],
      "metadata": {
        "colab": {
          "base_uri": "https://localhost:8080/"
        },
        "id": "Wxtr8zaaeSq0",
        "outputId": "42f40177-4fd7-4d46-986b-09bdfd243df7"
      },
      "execution_count": 131,
      "outputs": [
        {
          "output_type": "execute_result",
          "data": {
            "text/plain": [
              "True"
            ]
          },
          "metadata": {},
          "execution_count": 131
        }
      ]
    },
    {
      "cell_type": "markdown",
      "source": [
        "## Text Detection and Recognition using PaddleOCR"
      ],
      "metadata": {
        "id": "GxKF_NORk-aN"
      }
    },
    {
      "cell_type": "code",
      "source": [
        "# Cloning PaddleOCR git repo\n",
        "\n",
        "!git clone https://github.com/PaddlePaddle/PaddleOCR.git"
      ],
      "metadata": {
        "colab": {
          "base_uri": "https://localhost:8080/"
        },
        "id": "-3DiZhG8eSdt",
        "outputId": "c9ad2a9a-a0bb-474f-a4fa-bd7538e38cca"
      },
      "execution_count": 86,
      "outputs": [
        {
          "output_type": "stream",
          "name": "stdout",
          "text": [
            "fatal: destination path 'PaddleOCR' already exists and is not an empty directory.\n"
          ]
        }
      ]
    },
    {
      "cell_type": "code",
      "source": [
        "from paddleocr import PaddleOCR\n",
        "\n",
        "ocr = PaddleOCR(lang='en')\n",
        "image_path = '/content/extracted_img.jpg'\n",
        "image_cv = cv2.imread(image_path)\n",
        "image_height = image_cv.shape[0]\n",
        "image_width = image_cv.shape[1]\n",
        "output = ocr.ocr(image_path)[0]   # returns a list of OCR results for the detected text region"
      ],
      "metadata": {
        "colab": {
          "base_uri": "https://localhost:8080/"
        },
        "id": "s7SJnqv6KCXG",
        "outputId": "c8ccc012-5a71-4a93-ed8c-df873f813129"
      },
      "execution_count": 132,
      "outputs": [
        {
          "output_type": "stream",
          "name": "stdout",
          "text": [
            "[2023/12/04 08:11:53] ppocr DEBUG: Namespace(help='==SUPPRESS==', use_gpu=False, use_xpu=False, use_npu=False, ir_optim=True, use_tensorrt=False, min_subgraph_size=15, precision='fp32', gpu_mem=500, gpu_id=0, image_dir=None, page_num=0, det_algorithm='DB', det_model_dir='/root/.paddleocr/whl/det/en/en_PP-OCRv3_det_infer', det_limit_side_len=960, det_limit_type='max', det_box_type='quad', det_db_thresh=0.3, det_db_box_thresh=0.6, det_db_unclip_ratio=1.5, max_batch_size=10, use_dilation=False, det_db_score_mode='fast', det_east_score_thresh=0.8, det_east_cover_thresh=0.1, det_east_nms_thresh=0.2, det_sast_score_thresh=0.5, det_sast_nms_thresh=0.2, det_pse_thresh=0, det_pse_box_thresh=0.85, det_pse_min_area=16, det_pse_scale=1, scales=[8, 16, 32], alpha=1.0, beta=1.0, fourier_degree=5, rec_algorithm='SVTR_LCNet', rec_model_dir='/root/.paddleocr/whl/rec/en/en_PP-OCRv4_rec_infer', rec_image_inverse=True, rec_image_shape='3, 48, 320', rec_batch_num=6, max_text_length=25, rec_char_dict_path='/usr/local/lib/python3.10/dist-packages/paddleocr/ppocr/utils/en_dict.txt', use_space_char=True, vis_font_path='./doc/fonts/simfang.ttf', drop_score=0.5, e2e_algorithm='PGNet', e2e_model_dir=None, e2e_limit_side_len=768, e2e_limit_type='max', e2e_pgnet_score_thresh=0.5, e2e_char_dict_path='./ppocr/utils/ic15_dict.txt', e2e_pgnet_valid_set='totaltext', e2e_pgnet_mode='fast', use_angle_cls=False, cls_model_dir='/root/.paddleocr/whl/cls/ch_ppocr_mobile_v2.0_cls_infer', cls_image_shape='3, 48, 192', label_list=['0', '180'], cls_batch_num=6, cls_thresh=0.9, enable_mkldnn=False, cpu_threads=10, use_pdserving=False, warmup=False, sr_model_dir=None, sr_image_shape='3, 32, 128', sr_batch_num=1, draw_img_save_dir='./inference_results', save_crop_res=False, crop_res_save_dir='./output', use_mp=False, total_process_num=1, process_id=0, benchmark=False, save_log_path='./log_output/', show_log=True, use_onnx=False, output='./output', table_max_len=488, table_algorithm='TableAttn', table_model_dir=None, merge_no_span_structure=True, table_char_dict_path=None, layout_model_dir=None, layout_dict_path=None, layout_score_threshold=0.5, layout_nms_threshold=0.5, kie_algorithm='LayoutXLM', ser_model_dir=None, re_model_dir=None, use_visual_backbone=True, ser_dict_path='../train_data/XFUND/class_list_xfun.txt', ocr_order_method=None, mode='structure', image_orientation=False, layout=True, table=True, ocr=True, recovery=False, use_pdf2docx_api=False, invert=False, binarize=False, alphacolor=(255, 255, 255), lang='en', det=True, rec=True, type='ocr', ocr_version='PP-OCRv4', structure_version='PP-StructureV2')\n",
            "[2023/12/04 08:11:53] ppocr WARNING: Since the angle classifier is not initialized, it will not be used during the forward process\n",
            "[2023/12/04 08:11:54] ppocr DEBUG: dt_boxes num : 28, elapsed : 0.2453937530517578\n",
            "[2023/12/04 08:11:57] ppocr DEBUG: rec_res num  : 28, elapsed : 3.4947004318237305\n"
          ]
        }
      ]
    },
    {
      "cell_type": "code",
      "source": [
        "print(image_height, image_width)"
      ],
      "metadata": {
        "colab": {
          "base_uri": "https://localhost:8080/"
        },
        "id": "P8S0ZbOLe1vN",
        "outputId": "c247682f-ac6f-4ee3-db6f-4503552ce7e2"
      },
      "execution_count": 133,
      "outputs": [
        {
          "output_type": "stream",
          "name": "stdout",
          "text": [
            "397 1321\n"
          ]
        }
      ]
    },
    {
      "cell_type": "code",
      "source": [
        "for out in output:\n",
        "  print(out)"
      ],
      "metadata": {
        "colab": {
          "base_uri": "https://localhost:8080/"
        },
        "id": "KoR_nGRCKCTr",
        "outputId": "76235977-100f-4898-c0c1-abde78e2eb82"
      },
      "execution_count": 134,
      "outputs": [
        {
          "output_type": "stream",
          "name": "stdout",
          "text": [
            "[[[0.0, 12.0], [69.0, 12.0], [69.0, 43.0], [0.0, 43.0]], ('Item.', 0.9974163770675659)]\n",
            "[[[84.0, 11.0], [239.0, 8.0], [240.0, 43.0], [84.0, 46.0]], ('Description', 0.9855037331581116)]\n",
            "[[[651.0, 4.0], [768.0, 4.0], [768.0, 39.0], [651.0, 39.0]], ('Quantity', 0.99712073802948)]\n",
            "[[[938.0, 6.0], [1068.0, 6.0], [1068.0, 30.0], [938.0, 30.0]], ('Unit Price', 0.9575816988945007)]\n",
            "[[[1137.0, 4.0], [1280.0, 4.0], [1280.0, 28.0], [1137.0, 28.0]], ('Total Price', 0.9641761779785156)]\n",
            "[[[974.0, 37.0], [1031.0, 37.0], [1031.0, 69.0], [974.0, 69.0]], ('RM', 0.9969444274902344)]\n",
            "[[[1181.0, 34.0], [1237.0, 34.0], [1237.0, 66.0], [1181.0, 66.0]], ('RM', 0.9961779713630676)]\n",
            "[[[88.0, 48.0], [268.0, 45.0], [268.0, 74.0], [88.0, 77.0]], ('Product Code', 0.9685664176940918)]\n",
            "[[[533.0, 45.0], [637.0, 45.0], [637.0, 74.0], [533.0, 74.0]], ('Ordered', 0.9981580972671509)]\n",
            "[[[673.0, 47.0], [773.0, 47.0], [773.0, 77.0], [673.0, 77.0]], ('Shipped', 0.9982779622077942)]\n",
            "[[[817.0, 45.0], [867.0, 45.0], [867.0, 73.0], [817.0, 73.0]], ('B/O', 0.9619166851043701)]\n",
            "[[[577.0, 95.0], [594.0, 95.0], [594.0, 120.0], [577.0, 120.0]], ('1', 0.9990799427032471)]\n",
            "[[[705.0, 91.0], [727.0, 91.0], [727.0, 121.0], [705.0, 121.0]], ('1', 0.9983464479446411)]\n",
            "[[[949.0, 88.0], [1057.0, 88.0], [1057.0, 120.0], [949.0, 120.0]], ('4,219.50', 0.981574296951294)]\n",
            "[[[1153.0, 86.0], [1263.0, 81.0], [1265.0, 115.0], [1154.0, 120.0]], ('4,219.50', 0.9842298030853271)]\n",
            "[[[15.0, 98.0], [48.0, 98.0], [48.0, 130.0], [15.0, 130.0]], ('1.', 0.9934663772583008)]\n",
            "[[[86.0, 98.0], [265.0, 93.0], [266.0, 127.0], [87.0, 131.0]], ('Supplier Item:', 0.9933481216430664)]\n",
            "[[[88.0, 134.0], [353.0, 131.0], [354.0, 158.0], [88.0, 161.0]], ('Ref#DF0198/11/19Q', 0.984240710735321)]\n",
            "[[[89.0, 207.0], [351.0, 202.0], [351.0, 231.0], [90.0, 236.0]], ('1.Pump Y-2951.0467', 0.9758009314537048)]\n",
            "[[[89.0, 241.0], [399.0, 241.0], [399.0, 269.0], [89.0, 269.0]], ('2.Water chiller fan motor', 0.9848840236663818)]\n",
            "[[[706.0, 309.0], [729.0, 309.0], [729.0, 339.0], [706.0, 339.0]], ('1', 0.9977878332138062)]\n",
            "[[[1197.0, 303.0], [1256.0, 303.0], [1256.0, 335.0], [1197.0, 335.0]], ('0.00', 0.9980183839797974)]\n",
            "[[[15.0, 316.0], [48.0, 316.0], [48.0, 349.0], [15.0, 349.0]], ('2.', 0.9886068105697632)]\n",
            "[[[85.0, 315.0], [195.0, 311.0], [196.0, 346.0], [86.0, 349.0]], ('0%SST', 0.9974770545959473)]\n",
            "[[[579.0, 313.0], [597.0, 313.0], [597.0, 339.0], [579.0, 339.0]], ('1', 0.9992054104804993)]\n",
            "[[[835.0, 356.0], [1008.0, 353.0], [1009.0, 386.0], [836.0, 389.0]], ('Grand Total:', 0.9938645958900452)]\n",
            "[[[1042.0, 353.0], [1101.0, 353.0], [1101.0, 385.0], [1042.0, 385.0]], ('RM', 0.9966223239898682)]\n",
            "[[[1156.0, 352.0], [1267.0, 352.0], [1267.0, 385.0], [1156.0, 385.0]], ('4,219.50', 0.9863653779029846)]\n"
          ]
        }
      ]
    },
    {
      "cell_type": "markdown",
      "source": [
        "### Drawing bounding boxes around the detected text regions on the image"
      ],
      "metadata": {
        "id": "bCqUNdT4S47M"
      }
    },
    {
      "cell_type": "code",
      "source": [
        "boxes = [line[0] for line in output]   # coordinates of the bounding boxes\n",
        "texts = [line[1][0] for line in output]   # coordinates of the recognized texts\n",
        "probabilities = [line[1][1] for line in output]   #  confidence scores\n",
        "\n",
        "image_boxes = image_cv.copy()\n",
        "\n",
        "for box,text in zip(boxes,texts):\n",
        "  cv2.rectangle(image_boxes, (int(box[0][0]),int(box[0][1]),int(box[2][0]),int(box[2][1])),(0,0,255),1)\n",
        "  cv2.putText(image_boxes, text,(int(box[0][0]),int(box[0][1])),cv2.FONT_HERSHEY_SIMPLEX,1,(222,0,0),1)\n",
        "\n",
        "cv2.imwrite('detections.jpg', image_boxes)"
      ],
      "metadata": {
        "colab": {
          "base_uri": "https://localhost:8080/"
        },
        "id": "YHTZ6HnnKCQZ",
        "outputId": "ff3a190a-1acb-4334-ba06-a5e178b525ec"
      },
      "execution_count": 135,
      "outputs": [
        {
          "output_type": "execute_result",
          "data": {
            "text/plain": [
              "True"
            ]
          },
          "metadata": {},
          "execution_count": 135
        }
      ]
    },
    {
      "cell_type": "markdown",
      "source": [
        "### Creating horizontal and vertical bounding boxes"
      ],
      "metadata": {
        "id": "lcxp3DnAUTsx"
      }
    },
    {
      "cell_type": "code",
      "source": [
        "im = image_cv.copy()\n",
        "horiz_boxes = []\n",
        "vert_boxes = []\n",
        "\n",
        "for box in boxes:\n",
        "  x_h,x_v = 0,int(box[0][0])\n",
        "  y_h,y_v = int(box[0][1]),0\n",
        "  width_h,width_v = image_width, int(box[2][0]-box[0][0])\n",
        "  height_h,height_v = int(box[2][1]-box[0][1]),image_height\n",
        "\n",
        "  horiz_boxes.append([x_h,y_h,x_h+width_h,y_h+height_h])\n",
        "  vert_boxes.append([x_v,y_v,x_v+width_v,y_v+height_v])\n",
        "\n",
        "  cv2.rectangle(im,(x_h,y_h), (x_h+width_h,y_h+height_h),(0,0,255),1)\n",
        "  cv2.rectangle(im,(x_v,y_v), (x_v+width_v,y_v+height_v),(0,255,0),1)\n",
        "\n",
        "cv2.imwrite('horiz_vert.jpg',im)"
      ],
      "metadata": {
        "colab": {
          "base_uri": "https://localhost:8080/"
        },
        "id": "wSI2XpS8KCNd",
        "outputId": "c183e33a-f1d8-431f-faf9-92eebe8db479"
      },
      "execution_count": 136,
      "outputs": [
        {
          "output_type": "execute_result",
          "data": {
            "text/plain": [
              "True"
            ]
          },
          "metadata": {},
          "execution_count": 136
        }
      ]
    },
    {
      "cell_type": "markdown",
      "source": [
        "## Non-Max Supression"
      ],
      "metadata": {
        "id": "Q6RqeEdyNX2h"
      }
    },
    {
      "cell_type": "code",
      "source": [
        "import tensorflow as tf\n",
        "import numpy as np\n",
        "\n",
        "# non-maximum suppression on the horizontal bounding boxes\n",
        "\n",
        "horiz_out = tf.image.non_max_suppression(\n",
        "    horiz_boxes,\n",
        "    probabilities,\n",
        "    max_output_size = 1000,\n",
        "    iou_threshold=0.1,\n",
        "    score_threshold=float('-inf'),\n",
        "    name=None\n",
        ")\n",
        "horiz_lines = np.sort(np.array(horiz_out))\n",
        "# print(horiz_lines)\n",
        "\n",
        "im_nms = image_cv.copy()\n",
        "\n",
        "for val in horiz_lines:\n",
        "  cv2.rectangle(im_nms,(int(horiz_boxes[val][0]),int(horiz_boxes[val][1])), (int(horiz_boxes[val][2]),int(horiz_boxes[val][3])),(0,0,255),1)\n",
        "\n",
        "cv2.imwrite('im_h_nms.jpg',im_nms)\n"
      ],
      "metadata": {
        "colab": {
          "base_uri": "https://localhost:8080/"
        },
        "id": "MqTzO_iEKCKg",
        "outputId": "32529904-76de-4d79-93ca-40035226950f"
      },
      "execution_count": 137,
      "outputs": [
        {
          "output_type": "execute_result",
          "data": {
            "text/plain": [
              "True"
            ]
          },
          "metadata": {},
          "execution_count": 137
        }
      ]
    },
    {
      "cell_type": "code",
      "source": [
        "# non-maximum suppression (NMS) on the vertical bounding boxes\n",
        "\n",
        "vert_out = tf.image.non_max_suppression(\n",
        "    vert_boxes,\n",
        "    probabilities,\n",
        "    max_output_size = 1000,\n",
        "    iou_threshold=0.1,\n",
        "    score_threshold=float('-inf'),\n",
        "    name=None\n",
        ")\n",
        "\n",
        "vert_lines = np.sort(np.array(vert_out))\n",
        "print(vert_lines)\n",
        "\n",
        "im_nms = image_cv.copy()\n",
        "\n",
        "for val in vert_lines:\n",
        "  cv2.rectangle(im_nms, (int(vert_boxes[val][0]),int(vert_boxes[val][1])), (int(vert_boxes[val][2]),int(vert_boxes[val][3])),(255,0,0),1)\n",
        "\n",
        "cv2.imwrite('im_v_nms.jpg',im_nms)"
      ],
      "metadata": {
        "colab": {
          "base_uri": "https://localhost:8080/"
        },
        "id": "UPMEDh5SKCHn",
        "outputId": "afb9e823-7dcb-4fe2-e753-05a200a350b4"
      },
      "execution_count": 138,
      "outputs": [
        {
          "output_type": "stream",
          "name": "stdout",
          "text": [
            "[ 0  5 10 12 21 23 24 26]\n"
          ]
        },
        {
          "output_type": "execute_result",
          "data": {
            "text/plain": [
              "True"
            ]
          },
          "metadata": {},
          "execution_count": 138
        }
      ]
    },
    {
      "cell_type": "code",
      "source": [
        "out_array = [[\"\" for i in range(len(vert_lines))] for j in range(len(horiz_lines))]\n",
        "print(np.array(out_array).shape)\n",
        "print(out_array)"
      ],
      "metadata": {
        "colab": {
          "base_uri": "https://localhost:8080/"
        },
        "id": "cqRrlf_6KCB8",
        "outputId": "f208dcd2-f3bd-4ea0-cf4e-46a594eaa320"
      },
      "execution_count": 139,
      "outputs": [
        {
          "output_type": "stream",
          "name": "stdout",
          "text": [
            "(8, 8)\n",
            "[['', '', '', '', '', '', '', ''], ['', '', '', '', '', '', '', ''], ['', '', '', '', '', '', '', ''], ['', '', '', '', '', '', '', ''], ['', '', '', '', '', '', '', ''], ['', '', '', '', '', '', '', ''], ['', '', '', '', '', '', '', ''], ['', '', '', '', '', '', '', '']]\n"
          ]
        }
      ]
    },
    {
      "cell_type": "code",
      "source": [
        "unordered_boxes = []\n",
        "\n",
        "for i in vert_lines:\n",
        "  print(vert_boxes[i])\n",
        "  unordered_boxes.append(vert_boxes[i][0])"
      ],
      "metadata": {
        "colab": {
          "base_uri": "https://localhost:8080/"
        },
        "id": "v0cRHb-IKB-6",
        "outputId": "8ad6c622-5dd4-4f1f-abcf-e75fd5119505"
      },
      "execution_count": 140,
      "outputs": [
        {
          "output_type": "stream",
          "name": "stdout",
          "text": [
            "[0, 0, 69, 397]\n",
            "[974, 0, 1031, 397]\n",
            "[817, 0, 867, 397]\n",
            "[705, 0, 727, 397]\n",
            "[1197, 0, 1256, 397]\n",
            "[85, 0, 196, 397]\n",
            "[579, 0, 597, 397]\n",
            "[1042, 0, 1101, 397]\n"
          ]
        }
      ]
    },
    {
      "cell_type": "code",
      "source": [
        "ordered_boxes = np.argsort(unordered_boxes)\n",
        "print(ordered_boxes)"
      ],
      "metadata": {
        "colab": {
          "base_uri": "https://localhost:8080/"
        },
        "id": "LeffsSUaKB8A",
        "outputId": "4d58a45d-ad3b-4ccc-9980-a4be8d793908"
      },
      "execution_count": 141,
      "outputs": [
        {
          "output_type": "stream",
          "name": "stdout",
          "text": [
            "[0 5 6 3 2 1 7 4]\n"
          ]
        }
      ]
    },
    {
      "cell_type": "code",
      "source": [
        "def intersection(box_1, box_2):\n",
        "  return [box_2[0], box_1[1],box_2[2], box_1[3]]"
      ],
      "metadata": {
        "id": "fmFIPYtTOdDj"
      },
      "execution_count": 142,
      "outputs": []
    },
    {
      "cell_type": "code",
      "source": [
        "def iou(box_1, box_2):\n",
        "  x_1 = max(box_1[0], box_2[0])\n",
        "  y_1 = max(box_1[1], box_2[1])\n",
        "  x_2 = min(box_1[2], box_2[2])\n",
        "  y_2 = min(box_1[3], box_2[3])\n",
        "\n",
        "  inter = abs(max((x_2 - x_1, 0)) * max((y_2 - y_1), 0))\n",
        "  if inter == 0:\n",
        "      return 0\n",
        "\n",
        "  box_1_area = abs((box_1[2] - box_1[0]) * (box_1[3] - box_1[1]))\n",
        "  box_2_area = abs((box_2[2] - box_2[0]) * (box_2[3] - box_2[1]))\n",
        "\n",
        "  return inter / float(box_1_area + box_2_area - inter)"
      ],
      "metadata": {
        "id": "ciO7lTwIOc__"
      },
      "execution_count": 143,
      "outputs": []
    },
    {
      "cell_type": "code",
      "source": [
        "for i in range(len(horiz_lines)):\n",
        "  for j in range(len(vert_lines)):\n",
        "    resultant = intersection(horiz_boxes[horiz_lines[i]], vert_boxes[vert_lines[ordered_boxes[j]]] )\n",
        "\n",
        "    for b in range(len(boxes)):\n",
        "      the_box = [boxes[b][0][0],boxes[b][0][1],boxes[b][2][0],boxes[b][2][1]]\n",
        "      if(iou(resultant,the_box)>0.1):\n",
        "        out_array[i][j] = texts[b]"
      ],
      "metadata": {
        "id": "Dgt8r7NbOc7i"
      },
      "execution_count": 144,
      "outputs": []
    },
    {
      "cell_type": "code",
      "source": [
        "out_array=np.array(out_array)\n",
        "out_array"
      ],
      "metadata": {
        "colab": {
          "base_uri": "https://localhost:8080/"
        },
        "id": "9MGo91NGOc4e",
        "outputId": "2cc45067-63e0-4eef-bbe9-e1a7b9ee026d"
      },
      "execution_count": 145,
      "outputs": [
        {
          "output_type": "execute_result",
          "data": {
            "text/plain": [
              "array([['Item.', 'Description', '', 'Quantity', '', 'RM', 'Unit Price',\n",
              "        'RM'],\n",
              "       ['', 'Product Code', 'Ordered', 'Shipped', 'B/O', 'RM', '', 'RM'],\n",
              "       ['1.', 'Supplier Item:', '1', '1', '', '4,219.50', '', '4,219.50'],\n",
              "       ['', 'Ref#DF0198/11/19Q', '', '', '', '', '', ''],\n",
              "       ['', '1.Pump Y-2951.0467', '', '', '', '', '', ''],\n",
              "       ['', '2.Water chiller fan motor', '', '', '', '', '', ''],\n",
              "       ['2.', '0%SST', '1', '1', '', '', '', '0.00'],\n",
              "       ['', '', '', '', 'Grand Total:', 'Grand Total:', 'RM', '4,219.50']],\n",
              "      dtype='<U25')"
            ]
          },
          "metadata": {},
          "execution_count": 145
        }
      ]
    },
    {
      "cell_type": "code",
      "source": [
        "import pandas as pd\n",
        "df = pd.DataFrame(out_array)\n",
        "df.to_csv('pdf3_table1.csv')"
      ],
      "metadata": {
        "id": "XGgEbggSOvg-"
      },
      "execution_count": 146,
      "outputs": []
    },
    {
      "cell_type": "code",
      "source": [
        "df"
      ],
      "metadata": {
        "colab": {
          "base_uri": "https://localhost:8080/",
          "height": 300
        },
        "id": "7dUKLEzR1ra9",
        "outputId": "b15ec902-4c17-4cb9-9764-a1b869d91dfb"
      },
      "execution_count": 147,
      "outputs": [
        {
          "output_type": "execute_result",
          "data": {
            "text/plain": [
              "       0                          1        2         3             4  \\\n",
              "0  Item.                Description           Quantity                 \n",
              "1                      Product Code  Ordered   Shipped           B/O   \n",
              "2     1.             Supplier Item:        1         1                 \n",
              "3                 Ref#DF0198/11/19Q                                    \n",
              "4                1.Pump Y-2951.0467                                    \n",
              "5         2.Water chiller fan motor                                    \n",
              "6     2.                      0%SST        1         1                 \n",
              "7                                                       Grand Total:   \n",
              "\n",
              "              5           6         7  \n",
              "0            RM  Unit Price        RM  \n",
              "1            RM                    RM  \n",
              "2      4,219.50              4,219.50  \n",
              "3                                      \n",
              "4                                      \n",
              "5                                      \n",
              "6                                0.00  \n",
              "7  Grand Total:          RM  4,219.50  "
            ],
            "text/html": [
              "\n",
              "  <div id=\"df-9a1a5a5e-623e-4e9c-abf7-82fae8af27b9\" class=\"colab-df-container\">\n",
              "    <div>\n",
              "<style scoped>\n",
              "    .dataframe tbody tr th:only-of-type {\n",
              "        vertical-align: middle;\n",
              "    }\n",
              "\n",
              "    .dataframe tbody tr th {\n",
              "        vertical-align: top;\n",
              "    }\n",
              "\n",
              "    .dataframe thead th {\n",
              "        text-align: right;\n",
              "    }\n",
              "</style>\n",
              "<table border=\"1\" class=\"dataframe\">\n",
              "  <thead>\n",
              "    <tr style=\"text-align: right;\">\n",
              "      <th></th>\n",
              "      <th>0</th>\n",
              "      <th>1</th>\n",
              "      <th>2</th>\n",
              "      <th>3</th>\n",
              "      <th>4</th>\n",
              "      <th>5</th>\n",
              "      <th>6</th>\n",
              "      <th>7</th>\n",
              "    </tr>\n",
              "  </thead>\n",
              "  <tbody>\n",
              "    <tr>\n",
              "      <th>0</th>\n",
              "      <td>Item.</td>\n",
              "      <td>Description</td>\n",
              "      <td></td>\n",
              "      <td>Quantity</td>\n",
              "      <td></td>\n",
              "      <td>RM</td>\n",
              "      <td>Unit Price</td>\n",
              "      <td>RM</td>\n",
              "    </tr>\n",
              "    <tr>\n",
              "      <th>1</th>\n",
              "      <td></td>\n",
              "      <td>Product Code</td>\n",
              "      <td>Ordered</td>\n",
              "      <td>Shipped</td>\n",
              "      <td>B/O</td>\n",
              "      <td>RM</td>\n",
              "      <td></td>\n",
              "      <td>RM</td>\n",
              "    </tr>\n",
              "    <tr>\n",
              "      <th>2</th>\n",
              "      <td>1.</td>\n",
              "      <td>Supplier Item:</td>\n",
              "      <td>1</td>\n",
              "      <td>1</td>\n",
              "      <td></td>\n",
              "      <td>4,219.50</td>\n",
              "      <td></td>\n",
              "      <td>4,219.50</td>\n",
              "    </tr>\n",
              "    <tr>\n",
              "      <th>3</th>\n",
              "      <td></td>\n",
              "      <td>Ref#DF0198/11/19Q</td>\n",
              "      <td></td>\n",
              "      <td></td>\n",
              "      <td></td>\n",
              "      <td></td>\n",
              "      <td></td>\n",
              "      <td></td>\n",
              "    </tr>\n",
              "    <tr>\n",
              "      <th>4</th>\n",
              "      <td></td>\n",
              "      <td>1.Pump Y-2951.0467</td>\n",
              "      <td></td>\n",
              "      <td></td>\n",
              "      <td></td>\n",
              "      <td></td>\n",
              "      <td></td>\n",
              "      <td></td>\n",
              "    </tr>\n",
              "    <tr>\n",
              "      <th>5</th>\n",
              "      <td></td>\n",
              "      <td>2.Water chiller fan motor</td>\n",
              "      <td></td>\n",
              "      <td></td>\n",
              "      <td></td>\n",
              "      <td></td>\n",
              "      <td></td>\n",
              "      <td></td>\n",
              "    </tr>\n",
              "    <tr>\n",
              "      <th>6</th>\n",
              "      <td>2.</td>\n",
              "      <td>0%SST</td>\n",
              "      <td>1</td>\n",
              "      <td>1</td>\n",
              "      <td></td>\n",
              "      <td></td>\n",
              "      <td></td>\n",
              "      <td>0.00</td>\n",
              "    </tr>\n",
              "    <tr>\n",
              "      <th>7</th>\n",
              "      <td></td>\n",
              "      <td></td>\n",
              "      <td></td>\n",
              "      <td></td>\n",
              "      <td>Grand Total:</td>\n",
              "      <td>Grand Total:</td>\n",
              "      <td>RM</td>\n",
              "      <td>4,219.50</td>\n",
              "    </tr>\n",
              "  </tbody>\n",
              "</table>\n",
              "</div>\n",
              "    <div class=\"colab-df-buttons\">\n",
              "\n",
              "  <div class=\"colab-df-container\">\n",
              "    <button class=\"colab-df-convert\" onclick=\"convertToInteractive('df-9a1a5a5e-623e-4e9c-abf7-82fae8af27b9')\"\n",
              "            title=\"Convert this dataframe to an interactive table.\"\n",
              "            style=\"display:none;\">\n",
              "\n",
              "  <svg xmlns=\"http://www.w3.org/2000/svg\" height=\"24px\" viewBox=\"0 -960 960 960\">\n",
              "    <path d=\"M120-120v-720h720v720H120Zm60-500h600v-160H180v160Zm220 220h160v-160H400v160Zm0 220h160v-160H400v160ZM180-400h160v-160H180v160Zm440 0h160v-160H620v160ZM180-180h160v-160H180v160Zm440 0h160v-160H620v160Z\"/>\n",
              "  </svg>\n",
              "    </button>\n",
              "\n",
              "  <style>\n",
              "    .colab-df-container {\n",
              "      display:flex;\n",
              "      gap: 12px;\n",
              "    }\n",
              "\n",
              "    .colab-df-convert {\n",
              "      background-color: #E8F0FE;\n",
              "      border: none;\n",
              "      border-radius: 50%;\n",
              "      cursor: pointer;\n",
              "      display: none;\n",
              "      fill: #1967D2;\n",
              "      height: 32px;\n",
              "      padding: 0 0 0 0;\n",
              "      width: 32px;\n",
              "    }\n",
              "\n",
              "    .colab-df-convert:hover {\n",
              "      background-color: #E2EBFA;\n",
              "      box-shadow: 0px 1px 2px rgba(60, 64, 67, 0.3), 0px 1px 3px 1px rgba(60, 64, 67, 0.15);\n",
              "      fill: #174EA6;\n",
              "    }\n",
              "\n",
              "    .colab-df-buttons div {\n",
              "      margin-bottom: 4px;\n",
              "    }\n",
              "\n",
              "    [theme=dark] .colab-df-convert {\n",
              "      background-color: #3B4455;\n",
              "      fill: #D2E3FC;\n",
              "    }\n",
              "\n",
              "    [theme=dark] .colab-df-convert:hover {\n",
              "      background-color: #434B5C;\n",
              "      box-shadow: 0px 1px 3px 1px rgba(0, 0, 0, 0.15);\n",
              "      filter: drop-shadow(0px 1px 2px rgba(0, 0, 0, 0.3));\n",
              "      fill: #FFFFFF;\n",
              "    }\n",
              "  </style>\n",
              "\n",
              "    <script>\n",
              "      const buttonEl =\n",
              "        document.querySelector('#df-9a1a5a5e-623e-4e9c-abf7-82fae8af27b9 button.colab-df-convert');\n",
              "      buttonEl.style.display =\n",
              "        google.colab.kernel.accessAllowed ? 'block' : 'none';\n",
              "\n",
              "      async function convertToInteractive(key) {\n",
              "        const element = document.querySelector('#df-9a1a5a5e-623e-4e9c-abf7-82fae8af27b9');\n",
              "        const dataTable =\n",
              "          await google.colab.kernel.invokeFunction('convertToInteractive',\n",
              "                                                    [key], {});\n",
              "        if (!dataTable) return;\n",
              "\n",
              "        const docLinkHtml = 'Like what you see? Visit the ' +\n",
              "          '<a target=\"_blank\" href=https://colab.research.google.com/notebooks/data_table.ipynb>data table notebook</a>'\n",
              "          + ' to learn more about interactive tables.';\n",
              "        element.innerHTML = '';\n",
              "        dataTable['output_type'] = 'display_data';\n",
              "        await google.colab.output.renderOutput(dataTable, element);\n",
              "        const docLink = document.createElement('div');\n",
              "        docLink.innerHTML = docLinkHtml;\n",
              "        element.appendChild(docLink);\n",
              "      }\n",
              "    </script>\n",
              "  </div>\n",
              "\n",
              "\n",
              "<div id=\"df-413daa04-2d68-4d74-bdab-6ee2ff5a33eb\">\n",
              "  <button class=\"colab-df-quickchart\" onclick=\"quickchart('df-413daa04-2d68-4d74-bdab-6ee2ff5a33eb')\"\n",
              "            title=\"Suggest charts\"\n",
              "            style=\"display:none;\">\n",
              "\n",
              "<svg xmlns=\"http://www.w3.org/2000/svg\" height=\"24px\"viewBox=\"0 0 24 24\"\n",
              "     width=\"24px\">\n",
              "    <g>\n",
              "        <path d=\"M19 3H5c-1.1 0-2 .9-2 2v14c0 1.1.9 2 2 2h14c1.1 0 2-.9 2-2V5c0-1.1-.9-2-2-2zM9 17H7v-7h2v7zm4 0h-2V7h2v10zm4 0h-2v-4h2v4z\"/>\n",
              "    </g>\n",
              "</svg>\n",
              "  </button>\n",
              "\n",
              "<style>\n",
              "  .colab-df-quickchart {\n",
              "      --bg-color: #E8F0FE;\n",
              "      --fill-color: #1967D2;\n",
              "      --hover-bg-color: #E2EBFA;\n",
              "      --hover-fill-color: #174EA6;\n",
              "      --disabled-fill-color: #AAA;\n",
              "      --disabled-bg-color: #DDD;\n",
              "  }\n",
              "\n",
              "  [theme=dark] .colab-df-quickchart {\n",
              "      --bg-color: #3B4455;\n",
              "      --fill-color: #D2E3FC;\n",
              "      --hover-bg-color: #434B5C;\n",
              "      --hover-fill-color: #FFFFFF;\n",
              "      --disabled-bg-color: #3B4455;\n",
              "      --disabled-fill-color: #666;\n",
              "  }\n",
              "\n",
              "  .colab-df-quickchart {\n",
              "    background-color: var(--bg-color);\n",
              "    border: none;\n",
              "    border-radius: 50%;\n",
              "    cursor: pointer;\n",
              "    display: none;\n",
              "    fill: var(--fill-color);\n",
              "    height: 32px;\n",
              "    padding: 0;\n",
              "    width: 32px;\n",
              "  }\n",
              "\n",
              "  .colab-df-quickchart:hover {\n",
              "    background-color: var(--hover-bg-color);\n",
              "    box-shadow: 0 1px 2px rgba(60, 64, 67, 0.3), 0 1px 3px 1px rgba(60, 64, 67, 0.15);\n",
              "    fill: var(--button-hover-fill-color);\n",
              "  }\n",
              "\n",
              "  .colab-df-quickchart-complete:disabled,\n",
              "  .colab-df-quickchart-complete:disabled:hover {\n",
              "    background-color: var(--disabled-bg-color);\n",
              "    fill: var(--disabled-fill-color);\n",
              "    box-shadow: none;\n",
              "  }\n",
              "\n",
              "  .colab-df-spinner {\n",
              "    border: 2px solid var(--fill-color);\n",
              "    border-color: transparent;\n",
              "    border-bottom-color: var(--fill-color);\n",
              "    animation:\n",
              "      spin 1s steps(1) infinite;\n",
              "  }\n",
              "\n",
              "  @keyframes spin {\n",
              "    0% {\n",
              "      border-color: transparent;\n",
              "      border-bottom-color: var(--fill-color);\n",
              "      border-left-color: var(--fill-color);\n",
              "    }\n",
              "    20% {\n",
              "      border-color: transparent;\n",
              "      border-left-color: var(--fill-color);\n",
              "      border-top-color: var(--fill-color);\n",
              "    }\n",
              "    30% {\n",
              "      border-color: transparent;\n",
              "      border-left-color: var(--fill-color);\n",
              "      border-top-color: var(--fill-color);\n",
              "      border-right-color: var(--fill-color);\n",
              "    }\n",
              "    40% {\n",
              "      border-color: transparent;\n",
              "      border-right-color: var(--fill-color);\n",
              "      border-top-color: var(--fill-color);\n",
              "    }\n",
              "    60% {\n",
              "      border-color: transparent;\n",
              "      border-right-color: var(--fill-color);\n",
              "    }\n",
              "    80% {\n",
              "      border-color: transparent;\n",
              "      border-right-color: var(--fill-color);\n",
              "      border-bottom-color: var(--fill-color);\n",
              "    }\n",
              "    90% {\n",
              "      border-color: transparent;\n",
              "      border-bottom-color: var(--fill-color);\n",
              "    }\n",
              "  }\n",
              "</style>\n",
              "\n",
              "  <script>\n",
              "    async function quickchart(key) {\n",
              "      const quickchartButtonEl =\n",
              "        document.querySelector('#' + key + ' button');\n",
              "      quickchartButtonEl.disabled = true;  // To prevent multiple clicks.\n",
              "      quickchartButtonEl.classList.add('colab-df-spinner');\n",
              "      try {\n",
              "        const charts = await google.colab.kernel.invokeFunction(\n",
              "            'suggestCharts', [key], {});\n",
              "      } catch (error) {\n",
              "        console.error('Error during call to suggestCharts:', error);\n",
              "      }\n",
              "      quickchartButtonEl.classList.remove('colab-df-spinner');\n",
              "      quickchartButtonEl.classList.add('colab-df-quickchart-complete');\n",
              "    }\n",
              "    (() => {\n",
              "      let quickchartButtonEl =\n",
              "        document.querySelector('#df-413daa04-2d68-4d74-bdab-6ee2ff5a33eb button');\n",
              "      quickchartButtonEl.style.display =\n",
              "        google.colab.kernel.accessAllowed ? 'block' : 'none';\n",
              "    })();\n",
              "  </script>\n",
              "</div>\n",
              "    </div>\n",
              "  </div>\n"
            ]
          },
          "metadata": {},
          "execution_count": 147
        }
      ]
    },
    {
      "cell_type": "code",
      "source": [],
      "metadata": {
        "id": "bsrfQKX43JuV"
      },
      "execution_count": null,
      "outputs": []
    }
  ]
}