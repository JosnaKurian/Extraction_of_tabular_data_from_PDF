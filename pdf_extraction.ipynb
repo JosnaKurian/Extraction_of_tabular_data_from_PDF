{
  "nbformat": 4,
  "nbformat_minor": 0,
  "metadata": {
    "colab": {
      "provenance": [],
      "authorship_tag": "ABX9TyMqM4y9kNTnlno0QtBGvNm2",
      "include_colab_link": true
    },
    "kernelspec": {
      "name": "python3",
      "display_name": "Python 3"
    },
    "language_info": {
      "name": "python"
    }
  },
  "cells": [
    {
      "cell_type": "markdown",
      "metadata": {
        "id": "view-in-github",
        "colab_type": "text"
      },
      "source": [
        "<a href=\"https://colab.research.google.com/github/JosnaKurian/Extraction_of_tabular_data_from_PDF/blob/main/pdf_extraction.ipynb\" target=\"_parent\"><img src=\"https://colab.research.google.com/assets/colab-badge.svg\" alt=\"Open In Colab\"/></a>"
      ]
    },
    {
      "cell_type": "markdown",
      "source": [
        "#EXTRACTION OF TABULAR DATA FROM PDF"
      ],
      "metadata": {
        "id": "alVAYx6xdnOW"
      }
    },
    {
      "cell_type": "markdown",
      "source": [
        "#### Problem statement:\n",
        "\n",
        "Read the PDFs using python and extract the table contents/Line items as a DATAFRAME from the PDFs.\n",
        "\n",
        "Find a method/ strategy/ algorithm/ pre-trained models to identify the table contents, for all PDFs given and implement in Python.\n",
        "\n",
        "Extract all the columns as close as possible to the PDF given.\n",
        "\n"
      ],
      "metadata": {
        "id": "k53Mazp6dmu2"
      }
    },
    {
      "cell_type": "code",
      "execution_count": 2,
      "metadata": {
        "colab": {
          "base_uri": "https://localhost:8080/",
          "height": 1000
        },
        "id": "wT7Fsh07dGnp",
        "outputId": "6f1be500-7a44-46be-f1e6-f9271bb09357"
      },
      "outputs": [
        {
          "output_type": "stream",
          "name": "stdout",
          "text": [
            "Collecting pdf2image\n",
            "  Downloading pdf2image-1.16.3-py3-none-any.whl (11 kB)\n",
            "Requirement already satisfied: pillow in /usr/local/lib/python3.10/dist-packages (from pdf2image) (9.4.0)\n",
            "Installing collected packages: pdf2image\n",
            "Successfully installed pdf2image-1.16.3\n",
            "Reading package lists... Done\n",
            "Building dependency tree... Done\n",
            "Reading state information... Done\n",
            "The following NEW packages will be installed:\n",
            "  poppler-utils\n",
            "0 upgraded, 1 newly installed, 0 to remove and 15 not upgraded.\n",
            "Need to get 186 kB of archives.\n",
            "After this operation, 696 kB of additional disk space will be used.\n",
            "Get:1 http://archive.ubuntu.com/ubuntu jammy-updates/main amd64 poppler-utils amd64 22.02.0-2ubuntu0.3 [186 kB]\n",
            "Fetched 186 kB in 0s (443 kB/s)\n",
            "Selecting previously unselected package poppler-utils.\n",
            "(Reading database ... 120882 files and directories currently installed.)\n",
            "Preparing to unpack .../poppler-utils_22.02.0-2ubuntu0.3_amd64.deb ...\n",
            "Unpacking poppler-utils (22.02.0-2ubuntu0.3) ...\n",
            "Setting up poppler-utils (22.02.0-2ubuntu0.3) ...\n",
            "Processing triggers for man-db (2.10.2-1) ...\n",
            "Collecting layoutparser\n",
            "  Downloading layoutparser-0.3.4-py3-none-any.whl (19.2 MB)\n",
            "\u001b[2K     \u001b[90m━━━━━━━━━━━━━━━━━━━━━━━━━━━━━━━━━━━━━━━━\u001b[0m \u001b[32m19.2/19.2 MB\u001b[0m \u001b[31m49.5 MB/s\u001b[0m eta \u001b[36m0:00:00\u001b[0m\n",
            "\u001b[?25hRequirement already satisfied: numpy in /usr/local/lib/python3.10/dist-packages (from layoutparser) (1.23.5)\n",
            "Requirement already satisfied: opencv-python in /usr/local/lib/python3.10/dist-packages (from layoutparser) (4.8.0.76)\n",
            "Requirement already satisfied: scipy in /usr/local/lib/python3.10/dist-packages (from layoutparser) (1.11.4)\n",
            "Requirement already satisfied: pandas in /usr/local/lib/python3.10/dist-packages (from layoutparser) (1.5.3)\n",
            "Requirement already satisfied: pillow in /usr/local/lib/python3.10/dist-packages (from layoutparser) (9.4.0)\n",
            "Requirement already satisfied: pyyaml>=5.1 in /usr/local/lib/python3.10/dist-packages (from layoutparser) (6.0.1)\n",
            "Collecting iopath (from layoutparser)\n",
            "  Downloading iopath-0.1.10.tar.gz (42 kB)\n",
            "\u001b[2K     \u001b[90m━━━━━━━━━━━━━━━━━━━━━━━━━━━━━━━━━━━━━━━━\u001b[0m \u001b[32m42.2/42.2 kB\u001b[0m \u001b[31m4.9 MB/s\u001b[0m eta \u001b[36m0:00:00\u001b[0m\n",
            "\u001b[?25h  Preparing metadata (setup.py) ... \u001b[?25l\u001b[?25hdone\n",
            "Collecting pdfplumber (from layoutparser)\n",
            "  Downloading pdfplumber-0.10.3-py3-none-any.whl (48 kB)\n",
            "\u001b[2K     \u001b[90m━━━━━━━━━━━━━━━━━━━━━━━━━━━━━━━━━━━━━━━━\u001b[0m \u001b[32m49.0/49.0 kB\u001b[0m \u001b[31m5.5 MB/s\u001b[0m eta \u001b[36m0:00:00\u001b[0m\n",
            "\u001b[?25hRequirement already satisfied: pdf2image in /usr/local/lib/python3.10/dist-packages (from layoutparser) (1.16.3)\n",
            "Requirement already satisfied: tqdm in /usr/local/lib/python3.10/dist-packages (from iopath->layoutparser) (4.66.1)\n",
            "Requirement already satisfied: typing_extensions in /usr/local/lib/python3.10/dist-packages (from iopath->layoutparser) (4.5.0)\n",
            "Collecting portalocker (from iopath->layoutparser)\n",
            "  Downloading portalocker-2.8.2-py3-none-any.whl (17 kB)\n",
            "Requirement already satisfied: python-dateutil>=2.8.1 in /usr/local/lib/python3.10/dist-packages (from pandas->layoutparser) (2.8.2)\n",
            "Requirement already satisfied: pytz>=2020.1 in /usr/local/lib/python3.10/dist-packages (from pandas->layoutparser) (2023.3.post1)\n",
            "Collecting pdfminer.six==20221105 (from pdfplumber->layoutparser)\n",
            "  Downloading pdfminer.six-20221105-py3-none-any.whl (5.6 MB)\n",
            "\u001b[2K     \u001b[90m━━━━━━━━━━━━━━━━━━━━━━━━━━━━━━━━━━━━━━━━\u001b[0m \u001b[32m5.6/5.6 MB\u001b[0m \u001b[31m63.9 MB/s\u001b[0m eta \u001b[36m0:00:00\u001b[0m\n",
            "\u001b[?25hCollecting pypdfium2>=4.18.0 (from pdfplumber->layoutparser)\n",
            "  Downloading pypdfium2-4.24.0-py3-none-manylinux_2_17_x86_64.whl (3.0 MB)\n",
            "\u001b[2K     \u001b[90m━━━━━━━━━━━━━━━━━━━━━━━━━━━━━━━━━━━━━━━━\u001b[0m \u001b[32m3.0/3.0 MB\u001b[0m \u001b[31m79.9 MB/s\u001b[0m eta \u001b[36m0:00:00\u001b[0m\n",
            "\u001b[?25hRequirement already satisfied: charset-normalizer>=2.0.0 in /usr/local/lib/python3.10/dist-packages (from pdfminer.six==20221105->pdfplumber->layoutparser) (3.3.2)\n",
            "Requirement already satisfied: cryptography>=36.0.0 in /usr/local/lib/python3.10/dist-packages (from pdfminer.six==20221105->pdfplumber->layoutparser) (41.0.7)\n",
            "Requirement already satisfied: six>=1.5 in /usr/local/lib/python3.10/dist-packages (from python-dateutil>=2.8.1->pandas->layoutparser) (1.16.0)\n",
            "Requirement already satisfied: cffi>=1.12 in /usr/local/lib/python3.10/dist-packages (from cryptography>=36.0.0->pdfminer.six==20221105->pdfplumber->layoutparser) (1.16.0)\n",
            "Requirement already satisfied: pycparser in /usr/local/lib/python3.10/dist-packages (from cffi>=1.12->cryptography>=36.0.0->pdfminer.six==20221105->pdfplumber->layoutparser) (2.21)\n",
            "Building wheels for collected packages: iopath\n",
            "  Building wheel for iopath (setup.py) ... \u001b[?25l\u001b[?25hdone\n",
            "  Created wheel for iopath: filename=iopath-0.1.10-py3-none-any.whl size=31532 sha256=4d56bfbcbf2a13f2126680a6cc4c82eec8ad65de8a0ae01f08b00ccdc8f1ece2\n",
            "  Stored in directory: /root/.cache/pip/wheels/9a/a3/b6/ac0fcd1b4ed5cfeb3db92e6a0e476cfd48ed0df92b91080c1d\n",
            "Successfully built iopath\n",
            "Installing collected packages: pypdfium2, portalocker, iopath, pdfminer.six, pdfplumber, layoutparser\n",
            "Successfully installed iopath-0.1.10 layoutparser-0.3.4 pdfminer.six-20221105 pdfplumber-0.10.3 portalocker-2.8.2 pypdfium2-4.24.0\n",
            "Collecting paddleocr\n",
            "  Downloading paddleocr-2.7.0.3-py3-none-any.whl (465 kB)\n",
            "\u001b[2K     \u001b[90m━━━━━━━━━━━━━━━━━━━━━━━━━━━━━━━━━━━━━━━━\u001b[0m \u001b[32m465.7/465.7 kB\u001b[0m \u001b[31m7.0 MB/s\u001b[0m eta \u001b[36m0:00:00\u001b[0m\n",
            "\u001b[?25hRequirement already satisfied: shapely in /usr/local/lib/python3.10/dist-packages (from paddleocr) (2.0.2)\n",
            "Requirement already satisfied: scikit-image in /usr/local/lib/python3.10/dist-packages (from paddleocr) (0.19.3)\n",
            "Requirement already satisfied: imgaug in /usr/local/lib/python3.10/dist-packages (from paddleocr) (0.4.0)\n",
            "Collecting pyclipper (from paddleocr)\n",
            "  Downloading pyclipper-1.3.0.post5-cp310-cp310-manylinux_2_12_x86_64.manylinux2010_x86_64.whl (908 kB)\n",
            "\u001b[2K     \u001b[90m━━━━━━━━━━━━━━━━━━━━━━━━━━━━━━━━━━━━━━━━\u001b[0m \u001b[32m908.3/908.3 kB\u001b[0m \u001b[31m13.2 MB/s\u001b[0m eta \u001b[36m0:00:00\u001b[0m\n",
            "\u001b[?25hCollecting lmdb (from paddleocr)\n",
            "  Downloading lmdb-1.4.1-cp310-cp310-manylinux_2_17_x86_64.manylinux2014_x86_64.whl (299 kB)\n",
            "\u001b[2K     \u001b[90m━━━━━━━━━━━━━━━━━━━━━━━━━━━━━━━━━━━━━━━━\u001b[0m \u001b[32m299.2/299.2 kB\u001b[0m \u001b[31m15.8 MB/s\u001b[0m eta \u001b[36m0:00:00\u001b[0m\n",
            "\u001b[?25hRequirement already satisfied: tqdm in /usr/local/lib/python3.10/dist-packages (from paddleocr) (4.66.1)\n",
            "Requirement already satisfied: numpy in /usr/local/lib/python3.10/dist-packages (from paddleocr) (1.23.5)\n",
            "Collecting visualdl (from paddleocr)\n",
            "  Downloading visualdl-2.5.3-py3-none-any.whl (6.3 MB)\n",
            "\u001b[2K     \u001b[90m━━━━━━━━━━━━━━━━━━━━━━━━━━━━━━━━━━━━━━━━\u001b[0m \u001b[32m6.3/6.3 MB\u001b[0m \u001b[31m29.9 MB/s\u001b[0m eta \u001b[36m0:00:00\u001b[0m\n",
            "\u001b[?25hCollecting rapidfuzz (from paddleocr)\n",
            "  Downloading rapidfuzz-3.5.2-cp310-cp310-manylinux_2_17_x86_64.manylinux2014_x86_64.whl (3.3 MB)\n",
            "\u001b[2K     \u001b[90m━━━━━━━━━━━━━━━━━━━━━━━━━━━━━━━━━━━━━━━━\u001b[0m \u001b[32m3.3/3.3 MB\u001b[0m \u001b[31m54.7 MB/s\u001b[0m eta \u001b[36m0:00:00\u001b[0m\n",
            "\u001b[?25hCollecting opencv-python<=4.6.0.66 (from paddleocr)\n",
            "  Downloading opencv_python-4.6.0.66-cp36-abi3-manylinux_2_17_x86_64.manylinux2014_x86_64.whl (60.9 MB)\n",
            "\u001b[2K     \u001b[90m━━━━━━━━━━━━━━━━━━━━━━━━━━━━━━━━━━━━━━━━\u001b[0m \u001b[32m60.9/60.9 MB\u001b[0m \u001b[31m9.9 MB/s\u001b[0m eta \u001b[36m0:00:00\u001b[0m\n",
            "\u001b[?25hCollecting opencv-contrib-python<=4.6.0.66 (from paddleocr)\n",
            "  Downloading opencv_contrib_python-4.6.0.66-cp36-abi3-manylinux_2_17_x86_64.manylinux2014_x86_64.whl (67.1 MB)\n",
            "\u001b[2K     \u001b[90m━━━━━━━━━━━━━━━━━━━━━━━━━━━━━━━━━━━━━━━━\u001b[0m \u001b[32m67.1/67.1 MB\u001b[0m \u001b[31m7.8 MB/s\u001b[0m eta \u001b[36m0:00:00\u001b[0m\n",
            "\u001b[?25hRequirement already satisfied: cython in /usr/local/lib/python3.10/dist-packages (from paddleocr) (3.0.6)\n",
            "Requirement already satisfied: lxml in /usr/local/lib/python3.10/dist-packages (from paddleocr) (4.9.3)\n",
            "Collecting premailer (from paddleocr)\n",
            "  Downloading premailer-3.10.0-py2.py3-none-any.whl (19 kB)\n",
            "Requirement already satisfied: openpyxl in /usr/local/lib/python3.10/dist-packages (from paddleocr) (3.1.2)\n",
            "Collecting attrdict (from paddleocr)\n",
            "  Downloading attrdict-2.0.1-py2.py3-none-any.whl (9.9 kB)\n",
            "Collecting PyMuPDF<1.21.0 (from paddleocr)\n",
            "  Downloading PyMuPDF-1.20.2-cp310-cp310-manylinux_2_17_x86_64.manylinux2014_x86_64.whl (8.9 MB)\n",
            "\u001b[2K     \u001b[90m━━━━━━━━━━━━━━━━━━━━━━━━━━━━━━━━━━━━━━━━\u001b[0m \u001b[32m8.9/8.9 MB\u001b[0m \u001b[31m73.2 MB/s\u001b[0m eta \u001b[36m0:00:00\u001b[0m\n",
            "\u001b[?25hCollecting Pillow>=10.0.0 (from paddleocr)\n",
            "  Downloading Pillow-10.1.0-cp310-cp310-manylinux_2_28_x86_64.whl (3.6 MB)\n",
            "\u001b[2K     \u001b[90m━━━━━━━━━━━━━━━━━━━━━━━━━━━━━━━━━━━━━━━━\u001b[0m \u001b[32m3.6/3.6 MB\u001b[0m \u001b[31m72.3 MB/s\u001b[0m eta \u001b[36m0:00:00\u001b[0m\n",
            "\u001b[?25hRequirement already satisfied: pyyaml in /usr/local/lib/python3.10/dist-packages (from paddleocr) (6.0.1)\n",
            "Collecting python-docx (from paddleocr)\n",
            "  Downloading python_docx-1.1.0-py3-none-any.whl (239 kB)\n",
            "\u001b[2K     \u001b[90m━━━━━━━━━━━━━━━━━━━━━━━━━━━━━━━━━━━━━━━━\u001b[0m \u001b[32m239.6/239.6 kB\u001b[0m \u001b[31m24.3 MB/s\u001b[0m eta \u001b[36m0:00:00\u001b[0m\n",
            "\u001b[?25hRequirement already satisfied: beautifulsoup4 in /usr/local/lib/python3.10/dist-packages (from paddleocr) (4.11.2)\n",
            "Requirement already satisfied: fonttools>=4.24.0 in /usr/local/lib/python3.10/dist-packages (from paddleocr) (4.45.1)\n",
            "Collecting fire>=0.3.0 (from paddleocr)\n",
            "  Downloading fire-0.5.0.tar.gz (88 kB)\n",
            "\u001b[2K     \u001b[90m━━━━━━━━━━━━━━━━━━━━━━━━━━━━━━━━━━━━━━━━\u001b[0m \u001b[32m88.3/88.3 kB\u001b[0m \u001b[31m10.7 MB/s\u001b[0m eta \u001b[36m0:00:00\u001b[0m\n",
            "\u001b[?25h  Preparing metadata (setup.py) ... \u001b[?25l\u001b[?25hdone\n",
            "Collecting pdf2docx (from paddleocr)\n",
            "  Downloading pdf2docx-0.5.6-py3-none-any.whl (148 kB)\n",
            "\u001b[2K     \u001b[90m━━━━━━━━━━━━━━━━━━━━━━━━━━━━━━━━━━━━━━━━\u001b[0m \u001b[32m148.4/148.4 kB\u001b[0m \u001b[31m16.2 MB/s\u001b[0m eta \u001b[36m0:00:00\u001b[0m\n",
            "\u001b[?25hRequirement already satisfied: six in /usr/local/lib/python3.10/dist-packages (from fire>=0.3.0->paddleocr) (1.16.0)\n",
            "Requirement already satisfied: termcolor in /usr/local/lib/python3.10/dist-packages (from fire>=0.3.0->paddleocr) (2.3.0)\n",
            "Requirement already satisfied: soupsieve>1.2 in /usr/local/lib/python3.10/dist-packages (from beautifulsoup4->paddleocr) (2.5)\n",
            "Requirement already satisfied: scipy in /usr/local/lib/python3.10/dist-packages (from imgaug->paddleocr) (1.11.4)\n",
            "Requirement already satisfied: matplotlib in /usr/local/lib/python3.10/dist-packages (from imgaug->paddleocr) (3.7.1)\n",
            "Requirement already satisfied: imageio in /usr/local/lib/python3.10/dist-packages (from imgaug->paddleocr) (2.31.6)\n",
            "Requirement already satisfied: networkx>=2.2 in /usr/local/lib/python3.10/dist-packages (from scikit-image->paddleocr) (3.2.1)\n",
            "Requirement already satisfied: tifffile>=2019.7.26 in /usr/local/lib/python3.10/dist-packages (from scikit-image->paddleocr) (2023.9.26)\n",
            "Requirement already satisfied: PyWavelets>=1.1.1 in /usr/local/lib/python3.10/dist-packages (from scikit-image->paddleocr) (1.5.0)\n",
            "Requirement already satisfied: packaging>=20.0 in /usr/local/lib/python3.10/dist-packages (from scikit-image->paddleocr) (23.2)\n",
            "Requirement already satisfied: et-xmlfile in /usr/local/lib/python3.10/dist-packages (from openpyxl->paddleocr) (1.1.0)\n",
            "Requirement already satisfied: typing-extensions in /usr/local/lib/python3.10/dist-packages (from python-docx->paddleocr) (4.5.0)\n",
            "Collecting cssselect (from premailer->paddleocr)\n",
            "  Downloading cssselect-1.2.0-py2.py3-none-any.whl (18 kB)\n",
            "Collecting cssutils (from premailer->paddleocr)\n",
            "  Downloading cssutils-2.9.0-py3-none-any.whl (398 kB)\n",
            "\u001b[2K     \u001b[90m━━━━━━━━━━━━━━━━━━━━━━━━━━━━━━━━━━━━━━━━\u001b[0m \u001b[32m398.5/398.5 kB\u001b[0m \u001b[31m36.3 MB/s\u001b[0m eta \u001b[36m0:00:00\u001b[0m\n",
            "\u001b[?25hRequirement already satisfied: requests in /usr/local/lib/python3.10/dist-packages (from premailer->paddleocr) (2.31.0)\n",
            "Requirement already satisfied: cachetools in /usr/local/lib/python3.10/dist-packages (from premailer->paddleocr) (5.3.2)\n",
            "Collecting bce-python-sdk (from visualdl->paddleocr)\n",
            "  Downloading bce_python_sdk-0.8.97-py3-none-any.whl (241 kB)\n",
            "\u001b[2K     \u001b[90m━━━━━━━━━━━━━━━━━━━━━━━━━━━━━━━━━━━━━━━━\u001b[0m \u001b[32m241.5/241.5 kB\u001b[0m \u001b[31m23.7 MB/s\u001b[0m eta \u001b[36m0:00:00\u001b[0m\n",
            "\u001b[?25hRequirement already satisfied: flask>=1.1.1 in /usr/local/lib/python3.10/dist-packages (from visualdl->paddleocr) (2.2.5)\n",
            "Collecting Flask-Babel>=3.0.0 (from visualdl->paddleocr)\n",
            "  Downloading flask_babel-4.0.0-py3-none-any.whl (9.6 kB)\n",
            "Requirement already satisfied: protobuf>=3.20.0 in /usr/local/lib/python3.10/dist-packages (from visualdl->paddleocr) (3.20.3)\n",
            "Requirement already satisfied: pandas in /usr/local/lib/python3.10/dist-packages (from visualdl->paddleocr) (1.5.3)\n",
            "Collecting rarfile (from visualdl->paddleocr)\n",
            "  Downloading rarfile-4.1-py3-none-any.whl (28 kB)\n",
            "Requirement already satisfied: psutil in /usr/local/lib/python3.10/dist-packages (from visualdl->paddleocr) (5.9.5)\n",
            "Requirement already satisfied: Werkzeug>=2.2.2 in /usr/local/lib/python3.10/dist-packages (from flask>=1.1.1->visualdl->paddleocr) (3.0.1)\n",
            "Requirement already satisfied: Jinja2>=3.0 in /usr/local/lib/python3.10/dist-packages (from flask>=1.1.1->visualdl->paddleocr) (3.1.2)\n",
            "Requirement already satisfied: itsdangerous>=2.0 in /usr/local/lib/python3.10/dist-packages (from flask>=1.1.1->visualdl->paddleocr) (2.1.2)\n",
            "Requirement already satisfied: click>=8.0 in /usr/local/lib/python3.10/dist-packages (from flask>=1.1.1->visualdl->paddleocr) (8.1.7)\n",
            "Requirement already satisfied: Babel>=2.12 in /usr/local/lib/python3.10/dist-packages (from Flask-Babel>=3.0.0->visualdl->paddleocr) (2.13.1)\n",
            "Requirement already satisfied: pytz>=2022.7 in /usr/local/lib/python3.10/dist-packages (from Flask-Babel>=3.0.0->visualdl->paddleocr) (2023.3.post1)\n",
            "Collecting Pillow>=10.0.0 (from paddleocr)\n",
            "  Downloading Pillow-10.0.1-cp310-cp310-manylinux_2_28_x86_64.whl (3.6 MB)\n",
            "\u001b[2K     \u001b[90m━━━━━━━━━━━━━━━━━━━━━━━━━━━━━━━━━━━━━━━━\u001b[0m \u001b[32m3.6/3.6 MB\u001b[0m \u001b[31m90.9 MB/s\u001b[0m eta \u001b[36m0:00:00\u001b[0m\n",
            "\u001b[?25hCollecting pycryptodome>=3.8.0 (from bce-python-sdk->visualdl->paddleocr)\n",
            "  Downloading pycryptodome-3.19.0-cp35-abi3-manylinux_2_17_x86_64.manylinux2014_x86_64.whl (2.1 MB)\n",
            "\u001b[2K     \u001b[90m━━━━━━━━━━━━━━━━━━━━━━━━━━━━━━━━━━━━━━━━\u001b[0m \u001b[32m2.1/2.1 MB\u001b[0m \u001b[31m81.6 MB/s\u001b[0m eta \u001b[36m0:00:00\u001b[0m\n",
            "\u001b[?25hRequirement already satisfied: future>=0.6.0 in /usr/local/lib/python3.10/dist-packages (from bce-python-sdk->visualdl->paddleocr) (0.18.3)\n",
            "Requirement already satisfied: contourpy>=1.0.1 in /usr/local/lib/python3.10/dist-packages (from matplotlib->imgaug->paddleocr) (1.2.0)\n",
            "Requirement already satisfied: cycler>=0.10 in /usr/local/lib/python3.10/dist-packages (from matplotlib->imgaug->paddleocr) (0.12.1)\n",
            "Requirement already satisfied: kiwisolver>=1.0.1 in /usr/local/lib/python3.10/dist-packages (from matplotlib->imgaug->paddleocr) (1.4.5)\n",
            "Requirement already satisfied: pyparsing>=2.3.1 in /usr/local/lib/python3.10/dist-packages (from matplotlib->imgaug->paddleocr) (3.1.1)\n",
            "Requirement already satisfied: python-dateutil>=2.7 in /usr/local/lib/python3.10/dist-packages (from matplotlib->imgaug->paddleocr) (2.8.2)\n",
            "Requirement already satisfied: charset-normalizer<4,>=2 in /usr/local/lib/python3.10/dist-packages (from requests->premailer->paddleocr) (3.3.2)\n",
            "Requirement already satisfied: idna<4,>=2.5 in /usr/local/lib/python3.10/dist-packages (from requests->premailer->paddleocr) (3.6)\n",
            "Requirement already satisfied: urllib3<3,>=1.21.1 in /usr/local/lib/python3.10/dist-packages (from requests->premailer->paddleocr) (2.0.7)\n",
            "Requirement already satisfied: certifi>=2017.4.17 in /usr/local/lib/python3.10/dist-packages (from requests->premailer->paddleocr) (2023.11.17)\n",
            "Requirement already satisfied: MarkupSafe>=2.0 in /usr/local/lib/python3.10/dist-packages (from Jinja2>=3.0->flask>=1.1.1->visualdl->paddleocr) (2.1.3)\n",
            "Building wheels for collected packages: fire\n",
            "  Building wheel for fire (setup.py) ... \u001b[?25l\u001b[?25hdone\n",
            "  Created wheel for fire: filename=fire-0.5.0-py2.py3-none-any.whl size=116934 sha256=34d2c3a8d6ac026d05b91f8407afecb0442157fc56286d2e44f3d1877e42e0bf\n",
            "  Stored in directory: /root/.cache/pip/wheels/90/d4/f7/9404e5db0116bd4d43e5666eaa3e70ab53723e1e3ea40c9a95\n",
            "Successfully built fire\n",
            "Installing collected packages: pyclipper, lmdb, rarfile, rapidfuzz, python-docx, PyMuPDF, pycryptodome, Pillow, opencv-python, opencv-contrib-python, fire, cssutils, cssselect, attrdict, premailer, pdf2docx, bce-python-sdk, Flask-Babel, visualdl, paddleocr\n",
            "  Attempting uninstall: Pillow\n",
            "    Found existing installation: Pillow 9.4.0\n",
            "    Uninstalling Pillow-9.4.0:\n",
            "      Successfully uninstalled Pillow-9.4.0\n",
            "  Attempting uninstall: opencv-python\n",
            "    Found existing installation: opencv-python 4.8.0.76\n",
            "    Uninstalling opencv-python-4.8.0.76:\n",
            "      Successfully uninstalled opencv-python-4.8.0.76\n",
            "  Attempting uninstall: opencv-contrib-python\n",
            "    Found existing installation: opencv-contrib-python 4.8.0.76\n",
            "    Uninstalling opencv-contrib-python-4.8.0.76:\n",
            "      Successfully uninstalled opencv-contrib-python-4.8.0.76\n",
            "Successfully installed Flask-Babel-4.0.0 Pillow-10.0.1 PyMuPDF-1.20.2 attrdict-2.0.1 bce-python-sdk-0.8.97 cssselect-1.2.0 cssutils-2.9.0 fire-0.5.0 lmdb-1.4.1 opencv-contrib-python-4.6.0.66 opencv-python-4.6.0.66 paddleocr-2.7.0.3 pdf2docx-0.5.6 premailer-3.10.0 pyclipper-1.3.0.post5 pycryptodome-3.19.0 python-docx-1.1.0 rapidfuzz-3.5.2 rarfile-4.1 visualdl-2.5.3\n"
          ]
        },
        {
          "output_type": "display_data",
          "data": {
            "application/vnd.colab-display-data+json": {
              "pip_warning": {
                "packages": [
                  "PIL"
                ]
              }
            }
          },
          "metadata": {}
        },
        {
          "output_type": "stream",
          "name": "stdout",
          "text": [
            "Collecting paddlepaddle\n",
            "  Downloading paddlepaddle-2.5.2-cp310-cp310-manylinux1_x86_64.whl (126.5 MB)\n",
            "\u001b[2K     \u001b[90m━━━━━━━━━━━━━━━━━━━━━━━━━━━━━━━━━━━━━━━━\u001b[0m \u001b[32m126.5/126.5 MB\u001b[0m \u001b[31m2.9 MB/s\u001b[0m eta \u001b[36m0:00:00\u001b[0m\n",
            "\u001b[?25hCollecting httpx (from paddlepaddle)\n",
            "  Downloading httpx-0.25.2-py3-none-any.whl (74 kB)\n",
            "\u001b[2K     \u001b[90m━━━━━━━━━━━━━━━━━━━━━━━━━━━━━━━━━━━━━━━━\u001b[0m \u001b[32m75.0/75.0 kB\u001b[0m \u001b[31m6.2 MB/s\u001b[0m eta \u001b[36m0:00:00\u001b[0m\n",
            "\u001b[?25hRequirement already satisfied: numpy>=1.13 in /usr/local/lib/python3.10/dist-packages (from paddlepaddle) (1.23.5)\n",
            "Requirement already satisfied: Pillow in /usr/local/lib/python3.10/dist-packages (from paddlepaddle) (10.0.1)\n",
            "Requirement already satisfied: decorator in /usr/local/lib/python3.10/dist-packages (from paddlepaddle) (4.4.2)\n",
            "Collecting astor (from paddlepaddle)\n",
            "  Downloading astor-0.8.1-py2.py3-none-any.whl (27 kB)\n",
            "Requirement already satisfied: opt-einsum==3.3.0 in /usr/local/lib/python3.10/dist-packages (from paddlepaddle) (3.3.0)\n",
            "Requirement already satisfied: protobuf>=3.20.2 in /usr/local/lib/python3.10/dist-packages (from paddlepaddle) (3.20.3)\n",
            "Requirement already satisfied: anyio in /usr/local/lib/python3.10/dist-packages (from httpx->paddlepaddle) (3.7.1)\n",
            "Requirement already satisfied: certifi in /usr/local/lib/python3.10/dist-packages (from httpx->paddlepaddle) (2023.11.17)\n",
            "Collecting httpcore==1.* (from httpx->paddlepaddle)\n",
            "  Downloading httpcore-1.0.2-py3-none-any.whl (76 kB)\n",
            "\u001b[2K     \u001b[90m━━━━━━━━━━━━━━━━━━━━━━━━━━━━━━━━━━━━━━━━\u001b[0m \u001b[32m76.9/76.9 kB\u001b[0m \u001b[31m4.1 MB/s\u001b[0m eta \u001b[36m0:00:00\u001b[0m\n",
            "\u001b[?25hRequirement already satisfied: idna in /usr/local/lib/python3.10/dist-packages (from httpx->paddlepaddle) (3.6)\n",
            "Requirement already satisfied: sniffio in /usr/local/lib/python3.10/dist-packages (from httpx->paddlepaddle) (1.3.0)\n",
            "Collecting h11<0.15,>=0.13 (from httpcore==1.*->httpx->paddlepaddle)\n",
            "  Downloading h11-0.14.0-py3-none-any.whl (58 kB)\n",
            "\u001b[2K     \u001b[90m━━━━━━━━━━━━━━━━━━━━━━━━━━━━━━━━━━━━━━━━\u001b[0m \u001b[32m58.3/58.3 kB\u001b[0m \u001b[31m4.1 MB/s\u001b[0m eta \u001b[36m0:00:00\u001b[0m\n",
            "\u001b[?25hRequirement already satisfied: exceptiongroup in /usr/local/lib/python3.10/dist-packages (from anyio->httpx->paddlepaddle) (1.2.0)\n",
            "Installing collected packages: h11, astor, httpcore, httpx, paddlepaddle\n",
            "Successfully installed astor-0.8.1 h11-0.14.0 httpcore-1.0.2 httpx-0.25.2 paddlepaddle-2.5.2\n"
          ]
        }
      ],
      "source": [
        "# Installing required packages\n",
        "\n",
        "!pip install pdf2image   # Used to convert pdf to image\n",
        "!apt-get install poppler-utils\n",
        "!pip install layoutparser   # Used to convert pdf to image\n",
        "!pip install paddleocr   # Used for detection and recoginition of text\n",
        "!pip install paddlepaddle"
      ]
    },
    {
      "cell_type": "code",
      "source": [
        "# converting the pdf into image\n",
        "\n",
        "from pdf2image import convert_from_path\n",
        "images = convert_from_path('/content/Pdf_1.pdf')"
      ],
      "metadata": {
        "id": "2IB2LZLVd0_y"
      },
      "execution_count": 3,
      "outputs": []
    },
    {
      "cell_type": "code",
      "source": [
        "!mkdir pages"
      ],
      "metadata": {
        "id": "2OyPOm0ieCwY"
      },
      "execution_count": 4,
      "outputs": []
    },
    {
      "cell_type": "code",
      "source": [
        "# Save the images in the pages folder\n",
        "\n",
        "for i in range(len(images)):\n",
        "  images[i].save('pages/page'+str(i)+'.jpg','JPEG')"
      ],
      "metadata": {
        "id": "X6ff69wneDyV"
      },
      "execution_count": 5,
      "outputs": []
    },
    {
      "cell_type": "markdown",
      "source": [
        "Installing Detectron2.\n",
        "\n",
        "Detectron2 is a framework for object detection."
      ],
      "metadata": {
        "id": "a8ERDeG4gyVG"
      }
    },
    {
      "cell_type": "code",
      "source": [
        "!pip install 'git+https://github.com/facebookresearch/detectron2.git@v0.4#egg=detectron2'"
      ],
      "metadata": {
        "colab": {
          "base_uri": "https://localhost:8080/",
          "height": 1000
        },
        "id": "qK6J6bMLfgJl",
        "outputId": "5ff66bf7-3b57-4ef4-b6cd-901595506d13"
      },
      "execution_count": 6,
      "outputs": [
        {
          "output_type": "stream",
          "name": "stdout",
          "text": [
            "Collecting detectron2\n",
            "  Cloning https://github.com/facebookresearch/detectron2.git (to revision v0.4) to /tmp/pip-install-8jjgkt65/detectron2_ce6a51cae66a4a62a2a71c2fe831f43b\n",
            "  Running command git clone --filter=blob:none --quiet https://github.com/facebookresearch/detectron2.git /tmp/pip-install-8jjgkt65/detectron2_ce6a51cae66a4a62a2a71c2fe831f43b\n",
            "  Running command git checkout -q 4aca4bdaa9ad48b8e91d7520e0d0815bb8ca0fb1\n",
            "  Resolved https://github.com/facebookresearch/detectron2.git to commit 4aca4bdaa9ad48b8e91d7520e0d0815bb8ca0fb1\n",
            "  Preparing metadata (setup.py) ... \u001b[?25l\u001b[?25hdone\n",
            "Requirement already satisfied: termcolor>=1.1 in /usr/local/lib/python3.10/dist-packages (from detectron2) (2.3.0)\n",
            "Requirement already satisfied: Pillow>=7.1 in /usr/local/lib/python3.10/dist-packages (from detectron2) (10.0.1)\n",
            "Collecting yacs>=0.1.6 (from detectron2)\n",
            "  Downloading yacs-0.1.8-py3-none-any.whl (14 kB)\n",
            "Requirement already satisfied: tabulate in /usr/local/lib/python3.10/dist-packages (from detectron2) (0.9.0)\n",
            "Requirement already satisfied: cloudpickle in /usr/local/lib/python3.10/dist-packages (from detectron2) (2.2.1)\n",
            "Requirement already satisfied: matplotlib in /usr/local/lib/python3.10/dist-packages (from detectron2) (3.7.1)\n",
            "Requirement already satisfied: tqdm>4.29.0 in /usr/local/lib/python3.10/dist-packages (from detectron2) (4.66.1)\n",
            "Requirement already satisfied: tensorboard in /usr/local/lib/python3.10/dist-packages (from detectron2) (2.14.1)\n",
            "Collecting fvcore<0.1.4,>=0.1.3 (from detectron2)\n",
            "  Downloading fvcore-0.1.3.post20210317.tar.gz (47 kB)\n",
            "\u001b[2K     \u001b[90m━━━━━━━━━━━━━━━━━━━━━━━━━━━━━━━━━━━━━━━━\u001b[0m \u001b[32m47.5/47.5 kB\u001b[0m \u001b[31m1.6 MB/s\u001b[0m eta \u001b[36m0:00:00\u001b[0m\n",
            "\u001b[?25h  Preparing metadata (setup.py) ... \u001b[?25l\u001b[?25hdone\n",
            "Requirement already satisfied: iopath>=0.1.2 in /usr/local/lib/python3.10/dist-packages (from detectron2) (0.1.10)\n",
            "Requirement already satisfied: pycocotools>=2.0.2 in /usr/local/lib/python3.10/dist-packages (from detectron2) (2.0.7)\n",
            "Requirement already satisfied: future in /usr/local/lib/python3.10/dist-packages (from detectron2) (0.18.3)\n",
            "Requirement already satisfied: pydot in /usr/local/lib/python3.10/dist-packages (from detectron2) (1.4.2)\n",
            "Collecting omegaconf>=2 (from detectron2)\n",
            "  Downloading omegaconf-2.3.0-py3-none-any.whl (79 kB)\n",
            "\u001b[2K     \u001b[90m━━━━━━━━━━━━━━━━━━━━━━━━━━━━━━━━━━━━━━━━\u001b[0m \u001b[32m79.5/79.5 kB\u001b[0m \u001b[31m4.6 MB/s\u001b[0m eta \u001b[36m0:00:00\u001b[0m\n",
            "\u001b[?25hRequirement already satisfied: numpy in /usr/local/lib/python3.10/dist-packages (from fvcore<0.1.4,>=0.1.3->detectron2) (1.23.5)\n",
            "Requirement already satisfied: pyyaml>=5.1 in /usr/local/lib/python3.10/dist-packages (from fvcore<0.1.4,>=0.1.3->detectron2) (6.0.1)\n",
            "Requirement already satisfied: typing-extensions in /usr/local/lib/python3.10/dist-packages (from iopath>=0.1.2->detectron2) (4.5.0)\n",
            "Requirement already satisfied: portalocker in /usr/local/lib/python3.10/dist-packages (from iopath>=0.1.2->detectron2) (2.8.2)\n",
            "Collecting antlr4-python3-runtime==4.9.* (from omegaconf>=2->detectron2)\n",
            "  Downloading antlr4-python3-runtime-4.9.3.tar.gz (117 kB)\n",
            "\u001b[2K     \u001b[90m━━━━━━━━━━━━━━━━━━━━━━━━━━━━━━━━━━━━━━━━\u001b[0m \u001b[32m117.0/117.0 kB\u001b[0m \u001b[31m6.2 MB/s\u001b[0m eta \u001b[36m0:00:00\u001b[0m\n",
            "\u001b[?25h  Preparing metadata (setup.py) ... \u001b[?25l\u001b[?25hdone\n",
            "Requirement already satisfied: contourpy>=1.0.1 in /usr/local/lib/python3.10/dist-packages (from matplotlib->detectron2) (1.2.0)\n",
            "Requirement already satisfied: cycler>=0.10 in /usr/local/lib/python3.10/dist-packages (from matplotlib->detectron2) (0.12.1)\n",
            "Requirement already satisfied: fonttools>=4.22.0 in /usr/local/lib/python3.10/dist-packages (from matplotlib->detectron2) (4.45.1)\n",
            "Requirement already satisfied: kiwisolver>=1.0.1 in /usr/local/lib/python3.10/dist-packages (from matplotlib->detectron2) (1.4.5)\n",
            "Requirement already satisfied: packaging>=20.0 in /usr/local/lib/python3.10/dist-packages (from matplotlib->detectron2) (23.2)\n",
            "Requirement already satisfied: pyparsing>=2.3.1 in /usr/local/lib/python3.10/dist-packages (from matplotlib->detectron2) (3.1.1)\n",
            "Requirement already satisfied: python-dateutil>=2.7 in /usr/local/lib/python3.10/dist-packages (from matplotlib->detectron2) (2.8.2)\n",
            "Requirement already satisfied: absl-py>=0.4 in /usr/local/lib/python3.10/dist-packages (from tensorboard->detectron2) (1.4.0)\n",
            "Requirement already satisfied: grpcio>=1.48.2 in /usr/local/lib/python3.10/dist-packages (from tensorboard->detectron2) (1.59.3)\n",
            "Requirement already satisfied: google-auth<3,>=1.6.3 in /usr/local/lib/python3.10/dist-packages (from tensorboard->detectron2) (2.17.3)\n",
            "Requirement already satisfied: google-auth-oauthlib<1.1,>=0.5 in /usr/local/lib/python3.10/dist-packages (from tensorboard->detectron2) (1.0.0)\n",
            "Requirement already satisfied: markdown>=2.6.8 in /usr/local/lib/python3.10/dist-packages (from tensorboard->detectron2) (3.5.1)\n",
            "Requirement already satisfied: protobuf>=3.19.6 in /usr/local/lib/python3.10/dist-packages (from tensorboard->detectron2) (3.20.3)\n",
            "Requirement already satisfied: requests<3,>=2.21.0 in /usr/local/lib/python3.10/dist-packages (from tensorboard->detectron2) (2.31.0)\n",
            "Requirement already satisfied: setuptools>=41.0.0 in /usr/local/lib/python3.10/dist-packages (from tensorboard->detectron2) (67.7.2)\n",
            "Requirement already satisfied: six>1.9 in /usr/local/lib/python3.10/dist-packages (from tensorboard->detectron2) (1.16.0)\n",
            "Requirement already satisfied: tensorboard-data-server<0.8.0,>=0.7.0 in /usr/local/lib/python3.10/dist-packages (from tensorboard->detectron2) (0.7.2)\n",
            "Requirement already satisfied: werkzeug>=1.0.1 in /usr/local/lib/python3.10/dist-packages (from tensorboard->detectron2) (3.0.1)\n",
            "Requirement already satisfied: cachetools<6.0,>=2.0.0 in /usr/local/lib/python3.10/dist-packages (from google-auth<3,>=1.6.3->tensorboard->detectron2) (5.3.2)\n",
            "Requirement already satisfied: pyasn1-modules>=0.2.1 in /usr/local/lib/python3.10/dist-packages (from google-auth<3,>=1.6.3->tensorboard->detectron2) (0.3.0)\n",
            "Requirement already satisfied: rsa<5,>=3.1.4 in /usr/local/lib/python3.10/dist-packages (from google-auth<3,>=1.6.3->tensorboard->detectron2) (4.9)\n",
            "Requirement already satisfied: requests-oauthlib>=0.7.0 in /usr/local/lib/python3.10/dist-packages (from google-auth-oauthlib<1.1,>=0.5->tensorboard->detectron2) (1.3.1)\n",
            "Requirement already satisfied: charset-normalizer<4,>=2 in /usr/local/lib/python3.10/dist-packages (from requests<3,>=2.21.0->tensorboard->detectron2) (3.3.2)\n",
            "Requirement already satisfied: idna<4,>=2.5 in /usr/local/lib/python3.10/dist-packages (from requests<3,>=2.21.0->tensorboard->detectron2) (3.6)\n",
            "Requirement already satisfied: urllib3<3,>=1.21.1 in /usr/local/lib/python3.10/dist-packages (from requests<3,>=2.21.0->tensorboard->detectron2) (2.0.7)\n",
            "Requirement already satisfied: certifi>=2017.4.17 in /usr/local/lib/python3.10/dist-packages (from requests<3,>=2.21.0->tensorboard->detectron2) (2023.11.17)\n",
            "Requirement already satisfied: MarkupSafe>=2.1.1 in /usr/local/lib/python3.10/dist-packages (from werkzeug>=1.0.1->tensorboard->detectron2) (2.1.3)\n",
            "Requirement already satisfied: pyasn1<0.6.0,>=0.4.6 in /usr/local/lib/python3.10/dist-packages (from pyasn1-modules>=0.2.1->google-auth<3,>=1.6.3->tensorboard->detectron2) (0.5.1)\n",
            "Requirement already satisfied: oauthlib>=3.0.0 in /usr/local/lib/python3.10/dist-packages (from requests-oauthlib>=0.7.0->google-auth-oauthlib<1.1,>=0.5->tensorboard->detectron2) (3.2.2)\n",
            "Building wheels for collected packages: detectron2, fvcore, antlr4-python3-runtime\n",
            "  Building wheel for detectron2 (setup.py) ... \u001b[?25l\u001b[?25hdone\n",
            "  Created wheel for detectron2: filename=detectron2-0.4-cp310-cp310-linux_x86_64.whl size=5641910 sha256=57c4590ee7f5544cc6e15f99ff5cffc45beacf329688dd7639d19b803984ef28\n",
            "  Stored in directory: /tmp/pip-ephem-wheel-cache-rj5q31d3/wheels/e3/ba/71/676be3a40b4567a79c3d27292f7dc15b46b7cf39224a867d66\n",
            "  Building wheel for fvcore (setup.py) ... \u001b[?25l\u001b[?25hdone\n",
            "  Created wheel for fvcore: filename=fvcore-0.1.3.post20210317-py3-none-any.whl size=58512 sha256=bfc8cae9c8ad9415171a2fbf89c15ef661c5682f872a6475886811d15ce01812\n",
            "  Stored in directory: /root/.cache/pip/wheels/3b/2c/49/75fd2dfc9b4dd436f7d4a7cc1919d689a7c98523489910f6fb\n",
            "  Building wheel for antlr4-python3-runtime (setup.py) ... \u001b[?25l\u001b[?25hdone\n",
            "  Created wheel for antlr4-python3-runtime: filename=antlr4_python3_runtime-4.9.3-py3-none-any.whl size=144554 sha256=06635ff76b85578f799c135d038a2fddb5e000a496df8357a909024cb3baaccc\n",
            "  Stored in directory: /root/.cache/pip/wheels/12/93/dd/1f6a127edc45659556564c5730f6d4e300888f4bca2d4c5a88\n",
            "Successfully built detectron2 fvcore antlr4-python3-runtime\n",
            "Installing collected packages: antlr4-python3-runtime, yacs, omegaconf, fvcore, detectron2\n",
            "Successfully installed antlr4-python3-runtime-4.9.3 detectron2-0.4 fvcore-0.1.3.post20210317 omegaconf-2.3.0 yacs-0.1.8\n"
          ]
        },
        {
          "output_type": "display_data",
          "data": {
            "application/vnd.colab-display-data+json": {
              "pip_warning": {
                "packages": [
                  "pydevd_plugins"
                ]
              }
            }
          },
          "metadata": {}
        }
      ]
    },
    {
      "cell_type": "markdown",
      "source": [
        "Detectron2LayoutModel: This is a layout analysis model provided by the layoutparser library. It utilizes the Detectron2 framework.\n",
        "\n",
        "'lp://PubLayNet/mask_rcnn_X_101_32x8d_FPN_3x/config': This is the configuration used for the underlying Detectron2 model.\n",
        "\n",
        "label_map is provided to map the class indices predicted by the model to human-readable class labels."
      ],
      "metadata": {
        "id": "EVjwHgp3i-gG"
      }
    },
    {
      "cell_type": "code",
      "source": [
        "import layoutparser as lp\n",
        "model = lp.models.Detectron2LayoutModel('lp://PubLayNet/mask_rcnn_X_101_32x8d_FPN_3x/config',\n",
        "                                        label_map={0: \"Text\", 1: \"Title\", 2: \"List\", 3:\"Table\", 4:\"Figure\"})"
      ],
      "metadata": {
        "colab": {
          "base_uri": "https://localhost:8080/"
        },
        "id": "LprtK215eDu5",
        "outputId": "7b4b1e6e-c03f-4354-cea6-79b93ec9a29c"
      },
      "execution_count": 7,
      "outputs": [
        {
          "output_type": "stream",
          "name": "stderr",
          "text": [
            "config.yaml?dl=1: 8.19kB [00:00, 10.0kB/s]\n",
            "model_final.pth?dl=1: 856MB [00:08, 105MB/s]                           \n"
          ]
        }
      ]
    },
    {
      "cell_type": "code",
      "source": [
        "import cv2\n",
        "image = cv2.imread('/content/pages/page0.jpg')  # reading the image using OpenCV\n",
        "image = image[...,::-1]   # reverses the order of color channels in the image\n",
        "\n",
        "layout = model.detect(image)   # detects regions of interest"
      ],
      "metadata": {
        "colab": {
          "base_uri": "https://localhost:8080/"
        },
        "id": "S7KrgrDqeDsE",
        "outputId": "448108ad-9773-4c78-8d36-cbcafb396e3b"
      },
      "execution_count": 8,
      "outputs": [
        {
          "output_type": "stream",
          "name": "stderr",
          "text": [
            "/usr/local/lib/python3.10/dist-packages/torch/functional.py:504: UserWarning: torch.meshgrid: in an upcoming release, it will be required to pass the indexing argument. (Triggered internally at ../aten/src/ATen/native/TensorShape.cpp:3526.)\n",
            "  return _VF.meshgrid(tensors, **kwargs)  # type: ignore[attr-defined]\n"
          ]
        }
      ]
    },
    {
      "cell_type": "code",
      "source": [
        "layout"
      ],
      "metadata": {
        "colab": {
          "base_uri": "https://localhost:8080/"
        },
        "id": "aRRMvMBzeS5m",
        "outputId": "2c18863f-5035-457b-a37a-f6b52f55f26e"
      },
      "execution_count": 9,
      "outputs": [
        {
          "output_type": "execute_result",
          "data": {
            "text/plain": [
              "Layout(_blocks=[TextBlock(block=Rectangle(x_1=49.321311950683594, y_1=1889.24072265625, x_2=1614.038330078125, y_2=1990.5751953125), text=None, id=None, type=Text, parent=None, next=None, score=0.9837935566902161), TextBlock(block=Rectangle(x_1=1360.932861328125, y_1=1829.448486328125, x_2=1514.9866943359375, y_2=1864.7947998046875), text=None, id=None, type=Title, parent=None, next=None, score=0.9490137696266174), TextBlock(block=Rectangle(x_1=432.7635803222656, y_1=2013.5079345703125, x_2=1273.029052734375, y_2=2042.128173828125), text=None, id=None, type=Title, parent=None, next=None, score=0.89915931224823), TextBlock(block=Rectangle(x_1=121.7755126953125, y_1=746.740234375, x_2=1614.835693359375, y_2=1628.4481201171875), text=None, id=None, type=Table, parent=None, next=None, score=0.6938751935958862), TextBlock(block=Rectangle(x_1=103.02120208740234, y_1=209.83416748046875, x_2=660.0382080078125, y_2=274.39520263671875), text=None, id=None, type=Text, parent=None, next=None, score=0.6879562139511108), TextBlock(block=Rectangle(x_1=185.9930419921875, y_1=323.49847412109375, x_2=600.8201293945312, y_2=400.49761962890625), text=None, id=None, type=Text, parent=None, next=None, score=0.5045839548110962), TextBlock(block=Rectangle(x_1=170.13645935058594, y_1=2066.1748046875, x_2=1525.587158203125, y_2=2097.843994140625), text=None, id=None, type=Text, parent=None, next=None, score=0.4987625777721405), TextBlock(block=Rectangle(x_1=180.5627899169922, y_1=786.5750122070312, x_2=641.8833618164062, y_2=817.5365600585938), text=None, id=None, type=Text, parent=None, next=None, score=0.4377102255821228), TextBlock(block=Rectangle(x_1=164.08416748046875, y_1=2066.472412109375, x_2=1512.26708984375, y_2=2092.826171875), text=None, id=None, type=Title, parent=None, next=None, score=0.4336188733577728), TextBlock(block=Rectangle(x_1=84.77379608154297, y_1=131.95790100097656, x_2=1603.94921875, y_2=1425.4573974609375), text=None, id=None, type=Table, parent=None, next=None, score=0.3594121038913727), TextBlock(block=Rectangle(x_1=56.13509750366211, y_1=137.75315856933594, x_2=1599.40283203125, y_2=1417.80126953125), text=None, id=None, type=Figure, parent=None, next=None, score=0.35776615142822266), TextBlock(block=Rectangle(x_1=1120.4979248046875, y_1=499.7132263183594, x_2=1418.8294677734375, y_2=581.6465454101562), text=None, id=None, type=Text, parent=None, next=None, score=0.3379753530025482), TextBlock(block=Rectangle(x_1=1134.726806640625, y_1=500.50830078125, x_2=1362.1651611328125, y_2=529.7859497070312), text=None, id=None, type=Text, parent=None, next=None, score=0.27985721826553345), TextBlock(block=Rectangle(x_1=149.2115936279297, y_1=982.9024047851562, x_2=290.8980407714844, y_2=1372.1243896484375), text=None, id=None, type=List, parent=None, next=None, score=0.240460604429245), TextBlock(block=Rectangle(x_1=116.57929229736328, y_1=184.79409790039062, x_2=1611.7965087890625, y_2=805.9320678710938), text=None, id=None, type=Table, parent=None, next=None, score=0.21347960829734802), TextBlock(block=Rectangle(x_1=262.1606750488281, y_1=497.7919006347656, x_2=702.7835693359375, y_2=609.32470703125), text=None, id=None, type=Text, parent=None, next=None, score=0.20668606460094452), TextBlock(block=Rectangle(x_1=251.13046264648438, y_1=499.546630859375, x_2=706.3078002929688, y_2=607.3356323242188), text=None, id=None, type=List, parent=None, next=None, score=0.1825309544801712), TextBlock(block=Rectangle(x_1=434.87945556640625, y_1=2013.1220703125, x_2=1253.542236328125, y_2=2042.766357421875), text=None, id=None, type=Text, parent=None, next=None, score=0.18185430765151978), TextBlock(block=Rectangle(x_1=299.0581970214844, y_1=324.01922607421875, x_2=597.1092529296875, y_2=351.2561340332031), text=None, id=None, type=Text, parent=None, next=None, score=0.17307226359844208), TextBlock(block=Rectangle(x_1=306.348388671875, y_1=503.4591064453125, x_2=556.8228759765625, y_2=528.61962890625), text=None, id=None, type=Text, parent=None, next=None, score=0.17306309938430786), TextBlock(block=Rectangle(x_1=39.365177154541016, y_1=738.8670043945312, x_2=1653.016357421875, y_2=1836.085693359375), text=None, id=None, type=Figure, parent=None, next=None, score=0.17281748354434967), TextBlock(block=Rectangle(x_1=224.27830505371094, y_1=503.6688232421875, x_2=620.2396240234375, y_2=568.4613647460938), text=None, id=None, type=Text, parent=None, next=None, score=0.1606198400259018), TextBlock(block=Rectangle(x_1=997.5316162109375, y_1=319.9727783203125, x_2=1565.960205078125, y_2=457.4313659667969), text=None, id=None, type=Text, parent=None, next=None, score=0.14920511841773987), TextBlock(block=Rectangle(x_1=1131.265380859375, y_1=521.805419921875, x_2=1394.789306640625, y_2=559.14599609375), text=None, id=None, type=Text, parent=None, next=None, score=0.14690467715263367), TextBlock(block=Rectangle(x_1=220.7501678466797, y_1=505.0413818359375, x_2=307.95770263671875, y_2=532.3502807617188), text=None, id=None, type=Text, parent=None, next=None, score=0.14477546513080597), TextBlock(block=Rectangle(x_1=929.4066162109375, y_1=179.56170654296875, x_2=1584.807861328125, y_2=702.3477783203125), text=None, id=None, type=Table, parent=None, next=None, score=0.13273723423480988), TextBlock(block=Rectangle(x_1=125.96354675292969, y_1=1237.9471435546875, x_2=286.47845458984375, y_2=1263.04296875), text=None, id=None, type=Text, parent=None, next=None, score=0.12811501324176788), TextBlock(block=Rectangle(x_1=147.20689392089844, y_1=987.49853515625, x_2=288.2722473144531, y_2=1374.9210205078125), text=None, id=None, type=Text, parent=None, next=None, score=0.12809337675571442), TextBlock(block=Rectangle(x_1=1055.0206298828125, y_1=499.35595703125, x_2=1381.3297119140625, y_2=548.7682495117188), text=None, id=None, type=Text, parent=None, next=None, score=0.11877771466970444), TextBlock(block=Rectangle(x_1=186.33726501464844, y_1=325.8903503417969, x_2=302.2760925292969, y_2=354.7572021484375), text=None, id=None, type=Text, parent=None, next=None, score=0.11805848777294159), TextBlock(block=Rectangle(x_1=999.209228515625, y_1=504.568359375, x_2=1099.70263671875, y_2=533.888427734375), text=None, id=None, type=Text, parent=None, next=None, score=0.11765166372060776), TextBlock(block=Rectangle(x_1=1154.4388427734375, y_1=167.283203125, x_2=1345.406494140625, y_2=194.32696533203125), text=None, id=None, type=Text, parent=None, next=None, score=0.11583016067743301), TextBlock(block=Rectangle(x_1=213.7513427734375, y_1=502.9742126464844, x_2=585.4788818359375, y_2=537.2850341796875), text=None, id=None, type=Text, parent=None, next=None, score=0.10352710634469986), TextBlock(block=Rectangle(x_1=1134.7919921875, y_1=323.2704772949219, x_2=1402.7662353515625, y_2=350.2631530761719), text=None, id=None, type=Text, parent=None, next=None, score=0.09698949754238129), TextBlock(block=Rectangle(x_1=99.33843994140625, y_1=170.3663330078125, x_2=1641.2955322265625, y_2=799.7866821289062), text=None, id=None, type=Figure, parent=None, next=None, score=0.09579461812973022), TextBlock(block=Rectangle(x_1=1126.313232421875, y_1=358.4354553222656, x_2=1537.572021484375, y_2=449.1351623535156), text=None, id=None, type=Text, parent=None, next=None, score=0.09436517208814621), TextBlock(block=Rectangle(x_1=142.74432373046875, y_1=1184.0489501953125, x_2=297.3104248046875, y_2=1211.76318359375), text=None, id=None, type=Text, parent=None, next=None, score=0.09077248722314835), TextBlock(block=Rectangle(x_1=127.60787963867188, y_1=1342.8089599609375, x_2=285.4944152832031, y_2=1366.0047607421875), text=None, id=None, type=Text, parent=None, next=None, score=0.08190829306840897), TextBlock(block=Rectangle(x_1=859.651611328125, y_1=165.5649871826172, x_2=1514.957275390625, y_2=210.22300720214844), text=None, id=None, type=Text, parent=None, next=None, score=0.07790441811084747), TextBlock(block=Rectangle(x_1=1133.3768310546875, y_1=553.116943359375, x_2=1413.0364990234375, y_2=582.296142578125), text=None, id=None, type=Text, parent=None, next=None, score=0.07402555644512177), TextBlock(block=Rectangle(x_1=1119.810791015625, y_1=498.4368896484375, x_2=1420.5223388671875, y_2=582.2998046875), text=None, id=None, type=List, parent=None, next=None, score=0.07080258429050446), TextBlock(block=Rectangle(x_1=149.1822509765625, y_1=834.6827392578125, x_2=1642.0369873046875, y_2=1416.9959716796875), text=None, id=None, type=Figure, parent=None, next=None, score=0.0598299540579319), TextBlock(block=Rectangle(x_1=70.77803039550781, y_1=871.6181640625, x_2=1695.9998779296875, y_2=1409.2509765625), text=None, id=None, type=Text, parent=None, next=None, score=0.05905962362885475), TextBlock(block=Rectangle(x_1=125.77531433105469, y_1=1288.91259765625, x_2=296.48431396484375, y_2=1315.040283203125), text=None, id=None, type=Text, parent=None, next=None, score=0.056083980947732925), TextBlock(block=Rectangle(x_1=186.066162109375, y_1=325.4803466796875, x_2=301.75152587890625, y_2=355.1984558105469), text=None, id=None, type=Title, parent=None, next=None, score=0.05377447232604027), TextBlock(block=Rectangle(x_1=892.2276611328125, y_1=265.02142333984375, x_2=1577.090087890625, y_2=591.9246826171875), text=None, id=None, type=Text, parent=None, next=None, score=0.05153919756412506)], page_data={})"
            ]
          },
          "metadata": {},
          "execution_count": 9
        }
      ]
    },
    {
      "cell_type": "code",
      "source": [
        "# Finding the co-ordinates of the table layout\n",
        "\n",
        "for l in layout:\n",
        "  if l.type == 'Table':\n",
        "    x_1 = int(l.block.x_1)\n",
        "    y_1 = int(l.block.y_1)\n",
        "    x_2 = int(l.block.x_2)\n",
        "    y_2 = int(l.block.y_2)\n",
        "    break"
      ],
      "metadata": {
        "id": "_7lmqxMuuhAz"
      },
      "execution_count": 10,
      "outputs": []
    },
    {
      "cell_type": "code",
      "source": [
        "# Saving the extracted table image\n",
        "\n",
        "img = cv2.imread('/content/pages/page0.jpg')\n",
        "cv2.imwrite('extracted_img.jpg',img[y_1:y_2, x_1:x_2])"
      ],
      "metadata": {
        "colab": {
          "base_uri": "https://localhost:8080/"
        },
        "id": "Wxtr8zaaeSq0",
        "outputId": "56d44c71-cf25-4f03-87da-56e2a1f1375f"
      },
      "execution_count": 11,
      "outputs": [
        {
          "output_type": "execute_result",
          "data": {
            "text/plain": [
              "True"
            ]
          },
          "metadata": {},
          "execution_count": 11
        }
      ]
    },
    {
      "cell_type": "markdown",
      "source": [
        "Cloning the PaddleOCR git repo"
      ],
      "metadata": {
        "id": "GxKF_NORk-aN"
      }
    },
    {
      "cell_type": "code",
      "source": [
        "!git clone https://github.com/PaddlePaddle/PaddleOCR.git"
      ],
      "metadata": {
        "colab": {
          "base_uri": "https://localhost:8080/"
        },
        "id": "-3DiZhG8eSdt",
        "outputId": "034234e1-38d5-4e23-c12f-db9417c6294c"
      },
      "execution_count": 12,
      "outputs": [
        {
          "output_type": "stream",
          "name": "stdout",
          "text": [
            "Cloning into 'PaddleOCR'...\n",
            "remote: Enumerating objects: 47625, done.\u001b[K\n",
            "remote: Counting objects: 100% (866/866), done.\u001b[K\n",
            "remote: Compressing objects: 100% (389/389), done.\u001b[K\n",
            "remote: Total 47625 (delta 558), reused 683 (delta 472), pack-reused 46759\u001b[K\n",
            "Receiving objects: 100% (47625/47625), 345.27 MiB | 27.64 MiB/s, done.\n",
            "Resolving deltas: 100% (33410/33410), done.\n",
            "Updating files: 100% (1892/1892), done.\n"
          ]
        }
      ]
    },
    {
      "cell_type": "code",
      "source": [
        "%cd PaddleOCR/ppstructure"
      ],
      "metadata": {
        "colab": {
          "base_uri": "https://localhost:8080/"
        },
        "id": "51M94fbWeuRZ",
        "outputId": "18960819-ba44-4c8a-ffc4-86859af91e80"
      },
      "execution_count": 13,
      "outputs": [
        {
          "output_type": "stream",
          "name": "stdout",
          "text": [
            "/content/PaddleOCR/ppstructure\n"
          ]
        }
      ]
    },
    {
      "cell_type": "code",
      "source": [
        "!mkdir inference\n",
        "%cd inference"
      ],
      "metadata": {
        "colab": {
          "base_uri": "https://localhost:8080/"
        },
        "id": "U4iSHANceuOG",
        "outputId": "88afc5de-eb8e-4c5f-dec0-37e343c64849"
      },
      "execution_count": 14,
      "outputs": [
        {
          "output_type": "stream",
          "name": "stdout",
          "text": [
            "/content/PaddleOCR/ppstructure/inference\n"
          ]
        }
      ]
    },
    {
      "cell_type": "code",
      "source": [
        "# Download the PP-OCRv3 detection model and unzip it\n",
        "!wget https://paddleocr.bj.bcebos.com/PP-OCRv3/english/en_PP-OCRv3_det_infer.tar && tar xf en_PP-OCRv3_det_infer.tar\n",
        "\n",
        "# Download the PP-OCRv3 text recognition model and unzip it\n",
        "!wget https://paddleocr.bj.bcebos.com/PP-OCRv3/english/en_PP-OCRv3_rec_infer.tar && tar xf en_PP-OCRv3_rec_infer.tar\n",
        "\n",
        "# Download the PP-StructureV2 form recognition model and unzip it\n",
        "!wget https://paddleocr.bj.bcebos.com/ppstructure/models/slanet/en_ppstructure_mobile_v2.0_SLANet_infer.tar && tar xf en_ppstructure_mobile_v2.0_SLANet_infer.tar"
      ],
      "metadata": {
        "colab": {
          "base_uri": "https://localhost:8080/"
        },
        "id": "y52ETpNHeuLD",
        "outputId": "49cd23c5-3c01-491f-c63b-d29170f3026b"
      },
      "execution_count": 15,
      "outputs": [
        {
          "output_type": "stream",
          "name": "stdout",
          "text": [
            "--2023-12-03 17:08:15--  https://paddleocr.bj.bcebos.com/PP-OCRv3/english/en_PP-OCRv3_det_infer.tar\n",
            "Resolving paddleocr.bj.bcebos.com (paddleocr.bj.bcebos.com)... 103.235.46.61, 2409:8c04:1001:1002:0:ff:b001:368a\n",
            "Connecting to paddleocr.bj.bcebos.com (paddleocr.bj.bcebos.com)|103.235.46.61|:443... connected.\n",
            "HTTP request sent, awaiting response... 200 OK\n",
            "Length: 4003840 (3.8M) [application/x-tar]\n",
            "Saving to: ‘en_PP-OCRv3_det_infer.tar’\n",
            "\n",
            "en_PP-OCRv3_det_inf 100%[===================>]   3.82M   730KB/s    in 14s     \n",
            "\n",
            "2023-12-03 17:08:30 (286 KB/s) - ‘en_PP-OCRv3_det_infer.tar’ saved [4003840/4003840]\n",
            "\n",
            "--2023-12-03 17:08:30--  https://paddleocr.bj.bcebos.com/PP-OCRv3/english/en_PP-OCRv3_rec_infer.tar\n",
            "Resolving paddleocr.bj.bcebos.com (paddleocr.bj.bcebos.com)... 103.235.46.61, 2409:8c04:1001:1002:0:ff:b001:368a\n",
            "Connecting to paddleocr.bj.bcebos.com (paddleocr.bj.bcebos.com)|103.235.46.61|:443... connected.\n",
            "HTTP request sent, awaiting response... 200 OK\n",
            "Length: 9963520 (9.5M) [application/x-tar]\n",
            "Saving to: ‘en_PP-OCRv3_rec_infer.tar’\n",
            "\n",
            "en_PP-OCRv3_rec_inf 100%[===================>]   9.50M  2.09MB/s    in 10s     \n",
            "\n",
            "2023-12-03 17:08:42 (945 KB/s) - ‘en_PP-OCRv3_rec_infer.tar’ saved [9963520/9963520]\n",
            "\n",
            "--2023-12-03 17:08:42--  https://paddleocr.bj.bcebos.com/ppstructure/models/slanet/en_ppstructure_mobile_v2.0_SLANet_infer.tar\n",
            "Resolving paddleocr.bj.bcebos.com (paddleocr.bj.bcebos.com)... 103.235.46.61, 2409:8c04:1001:1002:0:ff:b001:368a\n",
            "Connecting to paddleocr.bj.bcebos.com (paddleocr.bj.bcebos.com)|103.235.46.61|:443... connected.\n",
            "HTTP request sent, awaiting response... 200 OK\n",
            "Length: 10193408 (9.7M) [application/x-tar]\n",
            "Saving to: ‘en_ppstructure_mobile_v2.0_SLANet_infer.tar’\n",
            "\n",
            "en_ppstructure_mobi 100%[===================>]   9.72M  2.14MB/s    in 10s     \n",
            "\n",
            "2023-12-03 17:08:53 (968 KB/s) - ‘en_ppstructure_mobile_v2.0_SLANet_infer.tar’ saved [10193408/10193408]\n",
            "\n"
          ]
        }
      ]
    },
    {
      "cell_type": "code",
      "source": [
        "# Run the predict_table.py with detection, recognition and table structure model\n",
        "\n",
        "!python3 /content/PaddleOCR/ppstructure/table/predict_table.py --det_model_dir=/content/PaddleOCR/ppstructure/inference/en_PP-OCRv3_det_infer --rec_model_dir=/content/PaddleOCR/ppstructure/inference/en_PP-OCRv3_rec_infer --table_model_dir=/content/PaddleOCR/ppstructure/inference/en_ppstructure_mobile_v2.0_SLANet_infer --image_dir=/content/extracted_img.jpg --rec_char_dict_path=/content/PaddleOCR/ppocr/utils/en_dict.txt --table_char_dict_path=/content/PaddleOCR/ppocr/utils/dict/table_structure_dict.txt --det_limit_side_len=736 --det_limit_type=min --output ./output/table"
      ],
      "metadata": {
        "colab": {
          "base_uri": "https://localhost:8080/"
        },
        "id": "7FtoqUzreuIQ",
        "outputId": "3a028214-0f31-4793-c3dd-c516be8f6d48"
      },
      "execution_count": 18,
      "outputs": [
        {
          "output_type": "stream",
          "name": "stdout",
          "text": [
            "E1203 17:09:49.033385 13674 analysis_config.cc:121] Please use PaddlePaddle with GPU version.\n",
            "E1203 17:09:49.509593 13674 analysis_config.cc:121] Please use PaddlePaddle with GPU version.\n",
            "E1203 17:09:49.764001 13674 analysis_config.cc:121] Please use PaddlePaddle with GPU version.\n",
            "E1203 17:09:50.446381 13674 analysis_config.cc:121] Please use PaddlePaddle with GPU version.\n",
            "[2023/12/03 17:09:51] ppocr INFO: [0/1] /content/extracted_img.jpg\n",
            "[2023/12/03 17:09:55] ppocr DEBUG: dt_boxes num : 81, elapse : 2.691648483276367\n",
            "[2023/12/03 17:10:02] ppocr DEBUG: rec_res num  : 81, elapse : 7.025516986846924\n",
            "[2023/12/03 17:10:02] ppocr INFO: <html><body><table><thead><tr><td colspan=\"2\">Tracking: Customer PO 57265</td><td>UPS/1Z 724 251 03 5206 0749 Payment Terms</td><td>Invoice Due Ship To PO Date 13-FEB-22</td><td colspan=\"2\">invoice Currency USD</td><td>Incoterm FOB ORIGIN</td><td colspan=\"2\">Sales Order 4582446</td></tr><tr><td>e</td><td>Item</td><td>Net 45</td><td>Description</td><td></td><td>UOM Qty</td><td>Unit Net</td><td>Price</td><td>Extended Price</td></tr></thead><tbody><tr><td>1</td><td>NT8501376</td><td>Lot# 5961218(13)</td><td>Open-Ended Peritoneal Catheter w/Slits, 120cm</td><td>EA</td><td></td><td>13</td><td>39.86</td><td>518.18</td></tr><tr><td>2</td><td>NT8501229</td><td></td><td>Portnoy Flanged Ventricular Catheter, 18cm</td><td>EA</td><td>8</td><td></td><td>29.69</td><td>237.52</td></tr><tr><td>3</td><td>NT8500112</td><td></td><td>Lot# 5961197(8) Natus Multi-Purpose Valve wAnti Siphon Device High</td><td>EA</td><td>1</td><td></td><td>128.97</td><td>128.97</td></tr><tr><td>4</td><td>NT97001S01</td><td>Lot# 5905603(1) Luer Connector</td><td></td><td>EA</td><td>5</td><td></td><td>3.01</td><td>15.05</td></tr><tr><td>5</td><td>NT8501195</td><td>Lot# 5949500(5)</td><td>FOLTZ FLUSHING RESERVOIR</td><td>EA</td><td>1</td><td></td><td>34.14</td><td>34.14</td></tr><tr><td>6</td><td>NT83024S01</td><td>Lot# 5958671(1)</td><td>STERILE VENTRICULAR CATHETER GUIDE</td><td>EA</td><td>11</td><td></td><td>14.68</td><td>161.48</td></tr><tr><td>7</td><td>NT8501391</td><td>Lot# 5961229(11) Lot# 5961226(3)</td><td>Pudenz Peritoneal Catheter Barium Imp Stripe, MP</td><td>EA</td><td>3</td><td></td><td>25.95</td><td>77.85</td></tr></tbody></table></body></html>\n",
            "[2023/12/03 17:10:03] ppocr INFO: excel saved to ./output/table/extracted_img.xlsx\n",
            "[2023/12/03 17:10:03] ppocr INFO: Predict time : 12.395s\n"
          ]
        }
      ]
    },
    {
      "cell_type": "markdown",
      "source": [
        "### Convert the excel file into DataFrame"
      ],
      "metadata": {
        "id": "VLcKpjV0oCyr"
      }
    },
    {
      "cell_type": "code",
      "source": [
        "import pandas as pd\n",
        "df = pd.read_excel('/content/PaddleOCR/ppstructure/inference/output/table/extracted_img.xlsx')\n",
        "df"
      ],
      "metadata": {
        "colab": {
          "base_uri": "https://localhost:8080/",
          "height": 508
        },
        "id": "AzFR3ZmFeuFN",
        "outputId": "4a7252bd-46d9-4ff4-f57b-942203a178cb"
      },
      "execution_count": 19,
      "outputs": [
        {
          "output_type": "execute_result",
          "data": {
            "text/plain": [
              "  Tracking: Customer PO 57265  Unnamed: 1  \\\n",
              "0                           e        Item   \n",
              "1                           1   NT8501376   \n",
              "2                           2   NT8501229   \n",
              "3                           3   NT8500112   \n",
              "4                           4  NT97001S01   \n",
              "5                           5   NT8501195   \n",
              "6                           6  NT83024S01   \n",
              "7                           7   NT8501391   \n",
              "\n",
              "  UPS/1Z 724 251 03 5206 0749 Payment Terms  \\\n",
              "0                                    Net 45   \n",
              "1                          Lot# 5961218(13)   \n",
              "2                                       NaN   \n",
              "3                                       NaN   \n",
              "4            Lot# 5905603(1) Luer Connector   \n",
              "5                           Lot# 5949500(5)   \n",
              "6                           Lot# 5958671(1)   \n",
              "7          Lot# 5961229(11) Lot# 5961226(3)   \n",
              "\n",
              "               Invoice Due Ship To PO Date 13-FEB-22 invoice Currency USD  \\\n",
              "0                                        Description                  NaN   \n",
              "1      Open-Ended Peritoneal Catheter w/Slits, 120cm                   EA   \n",
              "2         Portnoy Flanged Ventricular Catheter, 18cm                   EA   \n",
              "3  Lot# 5961197(8) Natus Multi-Purpose Valve wAnt...                   EA   \n",
              "4                                                NaN                   EA   \n",
              "5                           FOLTZ FLUSHING RESERVOIR                   EA   \n",
              "6                 STERILE VENTRICULAR CATHETER GUIDE                   EA   \n",
              "7   Pudenz Peritoneal Catheter Barium Imp Stripe, MP                   EA   \n",
              "\n",
              "  Unnamed: 5 Incoterm FOB ORIGIN Sales Order 4582446      Unnamed: 8  \n",
              "0    UOM Qty            Unit Net               Price  Extended Price  \n",
              "1        NaN                  13               39.86          518.18  \n",
              "2          8                 NaN               29.69          237.52  \n",
              "3          1                 NaN              128.97          128.97  \n",
              "4          5                 NaN                3.01           15.05  \n",
              "5          1                 NaN               34.14           34.14  \n",
              "6         11                 NaN               14.68          161.48  \n",
              "7          3                 NaN               25.95           77.85  "
            ],
            "text/html": [
              "\n",
              "  <div id=\"df-1672809a-a437-4291-b5ad-1d63dd077029\" class=\"colab-df-container\">\n",
              "    <div>\n",
              "<style scoped>\n",
              "    .dataframe tbody tr th:only-of-type {\n",
              "        vertical-align: middle;\n",
              "    }\n",
              "\n",
              "    .dataframe tbody tr th {\n",
              "        vertical-align: top;\n",
              "    }\n",
              "\n",
              "    .dataframe thead th {\n",
              "        text-align: right;\n",
              "    }\n",
              "</style>\n",
              "<table border=\"1\" class=\"dataframe\">\n",
              "  <thead>\n",
              "    <tr style=\"text-align: right;\">\n",
              "      <th></th>\n",
              "      <th>Tracking: Customer PO 57265</th>\n",
              "      <th>Unnamed: 1</th>\n",
              "      <th>UPS/1Z 724 251 03 5206 0749 Payment Terms</th>\n",
              "      <th>Invoice Due Ship To PO Date 13-FEB-22</th>\n",
              "      <th>invoice Currency USD</th>\n",
              "      <th>Unnamed: 5</th>\n",
              "      <th>Incoterm FOB ORIGIN</th>\n",
              "      <th>Sales Order 4582446</th>\n",
              "      <th>Unnamed: 8</th>\n",
              "    </tr>\n",
              "  </thead>\n",
              "  <tbody>\n",
              "    <tr>\n",
              "      <th>0</th>\n",
              "      <td>e</td>\n",
              "      <td>Item</td>\n",
              "      <td>Net 45</td>\n",
              "      <td>Description</td>\n",
              "      <td>NaN</td>\n",
              "      <td>UOM Qty</td>\n",
              "      <td>Unit Net</td>\n",
              "      <td>Price</td>\n",
              "      <td>Extended Price</td>\n",
              "    </tr>\n",
              "    <tr>\n",
              "      <th>1</th>\n",
              "      <td>1</td>\n",
              "      <td>NT8501376</td>\n",
              "      <td>Lot# 5961218(13)</td>\n",
              "      <td>Open-Ended Peritoneal Catheter w/Slits, 120cm</td>\n",
              "      <td>EA</td>\n",
              "      <td>NaN</td>\n",
              "      <td>13</td>\n",
              "      <td>39.86</td>\n",
              "      <td>518.18</td>\n",
              "    </tr>\n",
              "    <tr>\n",
              "      <th>2</th>\n",
              "      <td>2</td>\n",
              "      <td>NT8501229</td>\n",
              "      <td>NaN</td>\n",
              "      <td>Portnoy Flanged Ventricular Catheter, 18cm</td>\n",
              "      <td>EA</td>\n",
              "      <td>8</td>\n",
              "      <td>NaN</td>\n",
              "      <td>29.69</td>\n",
              "      <td>237.52</td>\n",
              "    </tr>\n",
              "    <tr>\n",
              "      <th>3</th>\n",
              "      <td>3</td>\n",
              "      <td>NT8500112</td>\n",
              "      <td>NaN</td>\n",
              "      <td>Lot# 5961197(8) Natus Multi-Purpose Valve wAnt...</td>\n",
              "      <td>EA</td>\n",
              "      <td>1</td>\n",
              "      <td>NaN</td>\n",
              "      <td>128.97</td>\n",
              "      <td>128.97</td>\n",
              "    </tr>\n",
              "    <tr>\n",
              "      <th>4</th>\n",
              "      <td>4</td>\n",
              "      <td>NT97001S01</td>\n",
              "      <td>Lot# 5905603(1) Luer Connector</td>\n",
              "      <td>NaN</td>\n",
              "      <td>EA</td>\n",
              "      <td>5</td>\n",
              "      <td>NaN</td>\n",
              "      <td>3.01</td>\n",
              "      <td>15.05</td>\n",
              "    </tr>\n",
              "    <tr>\n",
              "      <th>5</th>\n",
              "      <td>5</td>\n",
              "      <td>NT8501195</td>\n",
              "      <td>Lot# 5949500(5)</td>\n",
              "      <td>FOLTZ FLUSHING RESERVOIR</td>\n",
              "      <td>EA</td>\n",
              "      <td>1</td>\n",
              "      <td>NaN</td>\n",
              "      <td>34.14</td>\n",
              "      <td>34.14</td>\n",
              "    </tr>\n",
              "    <tr>\n",
              "      <th>6</th>\n",
              "      <td>6</td>\n",
              "      <td>NT83024S01</td>\n",
              "      <td>Lot# 5958671(1)</td>\n",
              "      <td>STERILE VENTRICULAR CATHETER GUIDE</td>\n",
              "      <td>EA</td>\n",
              "      <td>11</td>\n",
              "      <td>NaN</td>\n",
              "      <td>14.68</td>\n",
              "      <td>161.48</td>\n",
              "    </tr>\n",
              "    <tr>\n",
              "      <th>7</th>\n",
              "      <td>7</td>\n",
              "      <td>NT8501391</td>\n",
              "      <td>Lot# 5961229(11) Lot# 5961226(3)</td>\n",
              "      <td>Pudenz Peritoneal Catheter Barium Imp Stripe, MP</td>\n",
              "      <td>EA</td>\n",
              "      <td>3</td>\n",
              "      <td>NaN</td>\n",
              "      <td>25.95</td>\n",
              "      <td>77.85</td>\n",
              "    </tr>\n",
              "  </tbody>\n",
              "</table>\n",
              "</div>\n",
              "    <div class=\"colab-df-buttons\">\n",
              "\n",
              "  <div class=\"colab-df-container\">\n",
              "    <button class=\"colab-df-convert\" onclick=\"convertToInteractive('df-1672809a-a437-4291-b5ad-1d63dd077029')\"\n",
              "            title=\"Convert this dataframe to an interactive table.\"\n",
              "            style=\"display:none;\">\n",
              "\n",
              "  <svg xmlns=\"http://www.w3.org/2000/svg\" height=\"24px\" viewBox=\"0 -960 960 960\">\n",
              "    <path d=\"M120-120v-720h720v720H120Zm60-500h600v-160H180v160Zm220 220h160v-160H400v160Zm0 220h160v-160H400v160ZM180-400h160v-160H180v160Zm440 0h160v-160H620v160ZM180-180h160v-160H180v160Zm440 0h160v-160H620v160Z\"/>\n",
              "  </svg>\n",
              "    </button>\n",
              "\n",
              "  <style>\n",
              "    .colab-df-container {\n",
              "      display:flex;\n",
              "      gap: 12px;\n",
              "    }\n",
              "\n",
              "    .colab-df-convert {\n",
              "      background-color: #E8F0FE;\n",
              "      border: none;\n",
              "      border-radius: 50%;\n",
              "      cursor: pointer;\n",
              "      display: none;\n",
              "      fill: #1967D2;\n",
              "      height: 32px;\n",
              "      padding: 0 0 0 0;\n",
              "      width: 32px;\n",
              "    }\n",
              "\n",
              "    .colab-df-convert:hover {\n",
              "      background-color: #E2EBFA;\n",
              "      box-shadow: 0px 1px 2px rgba(60, 64, 67, 0.3), 0px 1px 3px 1px rgba(60, 64, 67, 0.15);\n",
              "      fill: #174EA6;\n",
              "    }\n",
              "\n",
              "    .colab-df-buttons div {\n",
              "      margin-bottom: 4px;\n",
              "    }\n",
              "\n",
              "    [theme=dark] .colab-df-convert {\n",
              "      background-color: #3B4455;\n",
              "      fill: #D2E3FC;\n",
              "    }\n",
              "\n",
              "    [theme=dark] .colab-df-convert:hover {\n",
              "      background-color: #434B5C;\n",
              "      box-shadow: 0px 1px 3px 1px rgba(0, 0, 0, 0.15);\n",
              "      filter: drop-shadow(0px 1px 2px rgba(0, 0, 0, 0.3));\n",
              "      fill: #FFFFFF;\n",
              "    }\n",
              "  </style>\n",
              "\n",
              "    <script>\n",
              "      const buttonEl =\n",
              "        document.querySelector('#df-1672809a-a437-4291-b5ad-1d63dd077029 button.colab-df-convert');\n",
              "      buttonEl.style.display =\n",
              "        google.colab.kernel.accessAllowed ? 'block' : 'none';\n",
              "\n",
              "      async function convertToInteractive(key) {\n",
              "        const element = document.querySelector('#df-1672809a-a437-4291-b5ad-1d63dd077029');\n",
              "        const dataTable =\n",
              "          await google.colab.kernel.invokeFunction('convertToInteractive',\n",
              "                                                    [key], {});\n",
              "        if (!dataTable) return;\n",
              "\n",
              "        const docLinkHtml = 'Like what you see? Visit the ' +\n",
              "          '<a target=\"_blank\" href=https://colab.research.google.com/notebooks/data_table.ipynb>data table notebook</a>'\n",
              "          + ' to learn more about interactive tables.';\n",
              "        element.innerHTML = '';\n",
              "        dataTable['output_type'] = 'display_data';\n",
              "        await google.colab.output.renderOutput(dataTable, element);\n",
              "        const docLink = document.createElement('div');\n",
              "        docLink.innerHTML = docLinkHtml;\n",
              "        element.appendChild(docLink);\n",
              "      }\n",
              "    </script>\n",
              "  </div>\n",
              "\n",
              "\n",
              "<div id=\"df-af2451ee-140d-411f-bc18-bf74c1f309aa\">\n",
              "  <button class=\"colab-df-quickchart\" onclick=\"quickchart('df-af2451ee-140d-411f-bc18-bf74c1f309aa')\"\n",
              "            title=\"Suggest charts\"\n",
              "            style=\"display:none;\">\n",
              "\n",
              "<svg xmlns=\"http://www.w3.org/2000/svg\" height=\"24px\"viewBox=\"0 0 24 24\"\n",
              "     width=\"24px\">\n",
              "    <g>\n",
              "        <path d=\"M19 3H5c-1.1 0-2 .9-2 2v14c0 1.1.9 2 2 2h14c1.1 0 2-.9 2-2V5c0-1.1-.9-2-2-2zM9 17H7v-7h2v7zm4 0h-2V7h2v10zm4 0h-2v-4h2v4z\"/>\n",
              "    </g>\n",
              "</svg>\n",
              "  </button>\n",
              "\n",
              "<style>\n",
              "  .colab-df-quickchart {\n",
              "      --bg-color: #E8F0FE;\n",
              "      --fill-color: #1967D2;\n",
              "      --hover-bg-color: #E2EBFA;\n",
              "      --hover-fill-color: #174EA6;\n",
              "      --disabled-fill-color: #AAA;\n",
              "      --disabled-bg-color: #DDD;\n",
              "  }\n",
              "\n",
              "  [theme=dark] .colab-df-quickchart {\n",
              "      --bg-color: #3B4455;\n",
              "      --fill-color: #D2E3FC;\n",
              "      --hover-bg-color: #434B5C;\n",
              "      --hover-fill-color: #FFFFFF;\n",
              "      --disabled-bg-color: #3B4455;\n",
              "      --disabled-fill-color: #666;\n",
              "  }\n",
              "\n",
              "  .colab-df-quickchart {\n",
              "    background-color: var(--bg-color);\n",
              "    border: none;\n",
              "    border-radius: 50%;\n",
              "    cursor: pointer;\n",
              "    display: none;\n",
              "    fill: var(--fill-color);\n",
              "    height: 32px;\n",
              "    padding: 0;\n",
              "    width: 32px;\n",
              "  }\n",
              "\n",
              "  .colab-df-quickchart:hover {\n",
              "    background-color: var(--hover-bg-color);\n",
              "    box-shadow: 0 1px 2px rgba(60, 64, 67, 0.3), 0 1px 3px 1px rgba(60, 64, 67, 0.15);\n",
              "    fill: var(--button-hover-fill-color);\n",
              "  }\n",
              "\n",
              "  .colab-df-quickchart-complete:disabled,\n",
              "  .colab-df-quickchart-complete:disabled:hover {\n",
              "    background-color: var(--disabled-bg-color);\n",
              "    fill: var(--disabled-fill-color);\n",
              "    box-shadow: none;\n",
              "  }\n",
              "\n",
              "  .colab-df-spinner {\n",
              "    border: 2px solid var(--fill-color);\n",
              "    border-color: transparent;\n",
              "    border-bottom-color: var(--fill-color);\n",
              "    animation:\n",
              "      spin 1s steps(1) infinite;\n",
              "  }\n",
              "\n",
              "  @keyframes spin {\n",
              "    0% {\n",
              "      border-color: transparent;\n",
              "      border-bottom-color: var(--fill-color);\n",
              "      border-left-color: var(--fill-color);\n",
              "    }\n",
              "    20% {\n",
              "      border-color: transparent;\n",
              "      border-left-color: var(--fill-color);\n",
              "      border-top-color: var(--fill-color);\n",
              "    }\n",
              "    30% {\n",
              "      border-color: transparent;\n",
              "      border-left-color: var(--fill-color);\n",
              "      border-top-color: var(--fill-color);\n",
              "      border-right-color: var(--fill-color);\n",
              "    }\n",
              "    40% {\n",
              "      border-color: transparent;\n",
              "      border-right-color: var(--fill-color);\n",
              "      border-top-color: var(--fill-color);\n",
              "    }\n",
              "    60% {\n",
              "      border-color: transparent;\n",
              "      border-right-color: var(--fill-color);\n",
              "    }\n",
              "    80% {\n",
              "      border-color: transparent;\n",
              "      border-right-color: var(--fill-color);\n",
              "      border-bottom-color: var(--fill-color);\n",
              "    }\n",
              "    90% {\n",
              "      border-color: transparent;\n",
              "      border-bottom-color: var(--fill-color);\n",
              "    }\n",
              "  }\n",
              "</style>\n",
              "\n",
              "  <script>\n",
              "    async function quickchart(key) {\n",
              "      const quickchartButtonEl =\n",
              "        document.querySelector('#' + key + ' button');\n",
              "      quickchartButtonEl.disabled = true;  // To prevent multiple clicks.\n",
              "      quickchartButtonEl.classList.add('colab-df-spinner');\n",
              "      try {\n",
              "        const charts = await google.colab.kernel.invokeFunction(\n",
              "            'suggestCharts', [key], {});\n",
              "      } catch (error) {\n",
              "        console.error('Error during call to suggestCharts:', error);\n",
              "      }\n",
              "      quickchartButtonEl.classList.remove('colab-df-spinner');\n",
              "      quickchartButtonEl.classList.add('colab-df-quickchart-complete');\n",
              "    }\n",
              "    (() => {\n",
              "      let quickchartButtonEl =\n",
              "        document.querySelector('#df-af2451ee-140d-411f-bc18-bf74c1f309aa button');\n",
              "      quickchartButtonEl.style.display =\n",
              "        google.colab.kernel.accessAllowed ? 'block' : 'none';\n",
              "    })();\n",
              "  </script>\n",
              "</div>\n",
              "    </div>\n",
              "  </div>\n"
            ]
          },
          "metadata": {},
          "execution_count": 19
        }
      ]
    },
    {
      "cell_type": "code",
      "source": [],
      "metadata": {
        "id": "p4N1UUR3pUJy"
      },
      "execution_count": null,
      "outputs": []
    }
  ]
}